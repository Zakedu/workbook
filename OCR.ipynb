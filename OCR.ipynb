{
  "nbformat": 4,
  "nbformat_minor": 0,
  "metadata": {
    "colab": {
      "name": "OCR",
      "provenance": [],
      "collapsed_sections": [],
      "authorship_tag": "ABX9TyMonBvlPS6JKGfuHDCmATkg"
    },
    "kernelspec": {
      "name": "python3",
      "display_name": "Python 3"
    }
  },
  "cells": [
    {
      "cell_type": "markdown",
      "metadata": {
        "id": "4x5bN1UYrKXH"
      },
      "source": [
        "Google Cloud vision"
      ]
    },
    {
      "cell_type": "code",
      "metadata": {
        "colab": {
          "base_uri": "https://localhost:8080/",
          "height": 1000
        },
        "id": "M9NZtBXDNkqp",
        "outputId": "31903dcf-0aac-40c9-eb73-c67dd9dacb04"
      },
      "source": [
        "! pip install --upgrade google-api-python-client\n",
        "! pip install google-cloud-vision\n"
      ],
      "execution_count": 1,
      "outputs": [
        {
          "output_type": "stream",
          "text": [
            "Collecting google-api-python-client\n",
            "\u001b[?25l  Downloading https://files.pythonhosted.org/packages/b7/56/bc7314cd180d1420e4ef11202dc9548ec22237a0a6de1aaf37b460ee7753/google_api_python_client-2.0.2-py2.py3-none-any.whl (6.5MB)\n",
            "\u001b[K     |████████████████████████████████| 6.5MB 5.3MB/s \n",
            "\u001b[?25hRequirement already satisfied, skipping upgrade: six<2dev,>=1.13.0 in /usr/local/lib/python3.7/dist-packages (from google-api-python-client) (1.15.0)\n",
            "Requirement already satisfied, skipping upgrade: google-api-core<2dev,>=1.21.0 in /usr/local/lib/python3.7/dist-packages (from google-api-python-client) (1.26.1)\n",
            "Requirement already satisfied, skipping upgrade: httplib2<1dev,>=0.15.0 in /usr/local/lib/python3.7/dist-packages (from google-api-python-client) (0.17.4)\n",
            "Requirement already satisfied, skipping upgrade: google-auth<2dev,>=1.16.0 in /usr/local/lib/python3.7/dist-packages (from google-api-python-client) (1.27.1)\n",
            "Requirement already satisfied, skipping upgrade: google-auth-httplib2>=0.0.3 in /usr/local/lib/python3.7/dist-packages (from google-api-python-client) (0.0.4)\n",
            "Requirement already satisfied, skipping upgrade: uritemplate<4dev,>=3.0.0 in /usr/local/lib/python3.7/dist-packages (from google-api-python-client) (3.0.1)\n",
            "Requirement already satisfied, skipping upgrade: protobuf>=3.12.0 in /usr/local/lib/python3.7/dist-packages (from google-api-core<2dev,>=1.21.0->google-api-python-client) (3.12.4)\n",
            "Requirement already satisfied, skipping upgrade: pytz in /usr/local/lib/python3.7/dist-packages (from google-api-core<2dev,>=1.21.0->google-api-python-client) (2018.9)\n",
            "Requirement already satisfied, skipping upgrade: setuptools>=40.3.0 in /usr/local/lib/python3.7/dist-packages (from google-api-core<2dev,>=1.21.0->google-api-python-client) (54.0.0)\n",
            "Requirement already satisfied, skipping upgrade: packaging>=14.3 in /usr/local/lib/python3.7/dist-packages (from google-api-core<2dev,>=1.21.0->google-api-python-client) (20.9)\n",
            "Requirement already satisfied, skipping upgrade: googleapis-common-protos<2.0dev,>=1.6.0 in /usr/local/lib/python3.7/dist-packages (from google-api-core<2dev,>=1.21.0->google-api-python-client) (1.53.0)\n",
            "Requirement already satisfied, skipping upgrade: requests<3.0.0dev,>=2.18.0 in /usr/local/lib/python3.7/dist-packages (from google-api-core<2dev,>=1.21.0->google-api-python-client) (2.23.0)\n",
            "Requirement already satisfied, skipping upgrade: pyasn1-modules>=0.2.1 in /usr/local/lib/python3.7/dist-packages (from google-auth<2dev,>=1.16.0->google-api-python-client) (0.2.8)\n",
            "Requirement already satisfied, skipping upgrade: cachetools<5.0,>=2.0.0 in /usr/local/lib/python3.7/dist-packages (from google-auth<2dev,>=1.16.0->google-api-python-client) (4.2.1)\n",
            "Requirement already satisfied, skipping upgrade: rsa<5,>=3.1.4; python_version >= \"3.6\" in /usr/local/lib/python3.7/dist-packages (from google-auth<2dev,>=1.16.0->google-api-python-client) (4.7.2)\n",
            "Requirement already satisfied, skipping upgrade: pyparsing>=2.0.2 in /usr/local/lib/python3.7/dist-packages (from packaging>=14.3->google-api-core<2dev,>=1.21.0->google-api-python-client) (2.4.7)\n",
            "Requirement already satisfied, skipping upgrade: certifi>=2017.4.17 in /usr/local/lib/python3.7/dist-packages (from requests<3.0.0dev,>=2.18.0->google-api-core<2dev,>=1.21.0->google-api-python-client) (2020.12.5)\n",
            "Requirement already satisfied, skipping upgrade: urllib3!=1.25.0,!=1.25.1,<1.26,>=1.21.1 in /usr/local/lib/python3.7/dist-packages (from requests<3.0.0dev,>=2.18.0->google-api-core<2dev,>=1.21.0->google-api-python-client) (1.24.3)\n",
            "Requirement already satisfied, skipping upgrade: chardet<4,>=3.0.2 in /usr/local/lib/python3.7/dist-packages (from requests<3.0.0dev,>=2.18.0->google-api-core<2dev,>=1.21.0->google-api-python-client) (3.0.4)\n",
            "Requirement already satisfied, skipping upgrade: idna<3,>=2.5 in /usr/local/lib/python3.7/dist-packages (from requests<3.0.0dev,>=2.18.0->google-api-core<2dev,>=1.21.0->google-api-python-client) (2.10)\n",
            "Requirement already satisfied, skipping upgrade: pyasn1<0.5.0,>=0.4.6 in /usr/local/lib/python3.7/dist-packages (from pyasn1-modules>=0.2.1->google-auth<2dev,>=1.16.0->google-api-python-client) (0.4.8)\n",
            "Installing collected packages: google-api-python-client\n",
            "  Found existing installation: google-api-python-client 1.12.8\n",
            "    Uninstalling google-api-python-client-1.12.8:\n",
            "      Successfully uninstalled google-api-python-client-1.12.8\n",
            "Successfully installed google-api-python-client-2.0.2\n",
            "Collecting google-cloud-vision\n",
            "\u001b[?25l  Downloading https://files.pythonhosted.org/packages/f6/f2/e652dd1de0b7a3533005ea024ec5053722e23aa4f97a304033071231e451/google_cloud_vision-2.2.0-py2.py3-none-any.whl (461kB)\n",
            "\u001b[K     |████████████████████████████████| 471kB 4.1MB/s \n",
            "\u001b[?25hCollecting proto-plus>=1.4.0\n",
            "\u001b[?25l  Downloading https://files.pythonhosted.org/packages/14/6f/c993a6afe533e6b9759021a13546c5feb83ef50f9f8955c2327f218b87f7/proto_plus-1.18.0-py3-none-any.whl (42kB)\n",
            "\u001b[K     |████████████████████████████████| 51kB 4.7MB/s \n",
            "\u001b[?25hRequirement already satisfied: google-api-core[grpc]<2.0.0dev,>=1.22.2 in /usr/local/lib/python3.7/dist-packages (from google-cloud-vision) (1.26.1)\n",
            "Collecting libcst>=0.2.5\n",
            "\u001b[?25l  Downloading https://files.pythonhosted.org/packages/1c/55/8c1e2f7edf2c15baf3e0cccfcd338ac8a3e4c52fb35d6f9ff55bb5a453df/libcst-0.3.17-py3-none-any.whl (507kB)\n",
            "\u001b[K     |████████████████████████████████| 512kB 6.2MB/s \n",
            "\u001b[?25hRequirement already satisfied: protobuf>=3.12.0 in /usr/local/lib/python3.7/dist-packages (from proto-plus>=1.4.0->google-cloud-vision) (3.12.4)\n",
            "Requirement already satisfied: six>=1.13.0 in /usr/local/lib/python3.7/dist-packages (from google-api-core[grpc]<2.0.0dev,>=1.22.2->google-cloud-vision) (1.15.0)\n",
            "Requirement already satisfied: googleapis-common-protos<2.0dev,>=1.6.0 in /usr/local/lib/python3.7/dist-packages (from google-api-core[grpc]<2.0.0dev,>=1.22.2->google-cloud-vision) (1.53.0)\n",
            "Requirement already satisfied: packaging>=14.3 in /usr/local/lib/python3.7/dist-packages (from google-api-core[grpc]<2.0.0dev,>=1.22.2->google-cloud-vision) (20.9)\n",
            "Requirement already satisfied: google-auth<2.0dev,>=1.21.1 in /usr/local/lib/python3.7/dist-packages (from google-api-core[grpc]<2.0.0dev,>=1.22.2->google-cloud-vision) (1.27.1)\n",
            "Requirement already satisfied: requests<3.0.0dev,>=2.18.0 in /usr/local/lib/python3.7/dist-packages (from google-api-core[grpc]<2.0.0dev,>=1.22.2->google-cloud-vision) (2.23.0)\n",
            "Requirement already satisfied: setuptools>=40.3.0 in /usr/local/lib/python3.7/dist-packages (from google-api-core[grpc]<2.0.0dev,>=1.22.2->google-cloud-vision) (54.0.0)\n",
            "Requirement already satisfied: pytz in /usr/local/lib/python3.7/dist-packages (from google-api-core[grpc]<2.0.0dev,>=1.22.2->google-cloud-vision) (2018.9)\n",
            "Requirement already satisfied: grpcio<2.0dev,>=1.29.0; extra == \"grpc\" in /usr/local/lib/python3.7/dist-packages (from google-api-core[grpc]<2.0.0dev,>=1.22.2->google-cloud-vision) (1.32.0)\n",
            "Collecting pyyaml>=5.2\n",
            "\u001b[?25l  Downloading https://files.pythonhosted.org/packages/7a/a5/393c087efdc78091afa2af9f1378762f9821c9c1d7a22c5753fb5ac5f97a/PyYAML-5.4.1-cp37-cp37m-manylinux1_x86_64.whl (636kB)\n",
            "\u001b[K     |████████████████████████████████| 645kB 12.9MB/s \n",
            "\u001b[?25hCollecting typing-inspect>=0.4.0\n",
            "  Downloading https://files.pythonhosted.org/packages/42/1c/66402db44184904a2f14722d317a4da0b5c8c78acfc3faf74362566635c5/typing_inspect-0.6.0-py3-none-any.whl\n",
            "Requirement already satisfied: typing-extensions>=3.7.4.2 in /usr/local/lib/python3.7/dist-packages (from libcst>=0.2.5->google-cloud-vision) (3.7.4.3)\n",
            "Requirement already satisfied: pyparsing>=2.0.2 in /usr/local/lib/python3.7/dist-packages (from packaging>=14.3->google-api-core[grpc]<2.0.0dev,>=1.22.2->google-cloud-vision) (2.4.7)\n",
            "Requirement already satisfied: rsa<5,>=3.1.4; python_version >= \"3.6\" in /usr/local/lib/python3.7/dist-packages (from google-auth<2.0dev,>=1.21.1->google-api-core[grpc]<2.0.0dev,>=1.22.2->google-cloud-vision) (4.7.2)\n",
            "Requirement already satisfied: cachetools<5.0,>=2.0.0 in /usr/local/lib/python3.7/dist-packages (from google-auth<2.0dev,>=1.21.1->google-api-core[grpc]<2.0.0dev,>=1.22.2->google-cloud-vision) (4.2.1)\n",
            "Requirement already satisfied: pyasn1-modules>=0.2.1 in /usr/local/lib/python3.7/dist-packages (from google-auth<2.0dev,>=1.21.1->google-api-core[grpc]<2.0.0dev,>=1.22.2->google-cloud-vision) (0.2.8)\n",
            "Requirement already satisfied: certifi>=2017.4.17 in /usr/local/lib/python3.7/dist-packages (from requests<3.0.0dev,>=2.18.0->google-api-core[grpc]<2.0.0dev,>=1.22.2->google-cloud-vision) (2020.12.5)\n",
            "Requirement already satisfied: idna<3,>=2.5 in /usr/local/lib/python3.7/dist-packages (from requests<3.0.0dev,>=2.18.0->google-api-core[grpc]<2.0.0dev,>=1.22.2->google-cloud-vision) (2.10)\n",
            "Requirement already satisfied: urllib3!=1.25.0,!=1.25.1,<1.26,>=1.21.1 in /usr/local/lib/python3.7/dist-packages (from requests<3.0.0dev,>=2.18.0->google-api-core[grpc]<2.0.0dev,>=1.22.2->google-cloud-vision) (1.24.3)\n",
            "Requirement already satisfied: chardet<4,>=3.0.2 in /usr/local/lib/python3.7/dist-packages (from requests<3.0.0dev,>=2.18.0->google-api-core[grpc]<2.0.0dev,>=1.22.2->google-cloud-vision) (3.0.4)\n",
            "Collecting mypy-extensions>=0.3.0\n",
            "  Downloading https://files.pythonhosted.org/packages/5c/eb/975c7c080f3223a5cdaff09612f3a5221e4ba534f7039db34c35d95fa6a5/mypy_extensions-0.4.3-py2.py3-none-any.whl\n",
            "Requirement already satisfied: pyasn1>=0.1.3 in /usr/local/lib/python3.7/dist-packages (from rsa<5,>=3.1.4; python_version >= \"3.6\"->google-auth<2.0dev,>=1.21.1->google-api-core[grpc]<2.0.0dev,>=1.22.2->google-cloud-vision) (0.4.8)\n",
            "Installing collected packages: proto-plus, pyyaml, mypy-extensions, typing-inspect, libcst, google-cloud-vision\n",
            "  Found existing installation: PyYAML 3.13\n",
            "    Uninstalling PyYAML-3.13:\n",
            "      Successfully uninstalled PyYAML-3.13\n",
            "Successfully installed google-cloud-vision-2.2.0 libcst-0.3.17 mypy-extensions-0.4.3 proto-plus-1.18.0 pyyaml-5.4.1 typing-inspect-0.6.0\n"
          ],
          "name": "stdout"
        },
        {
          "output_type": "display_data",
          "data": {
            "application/vnd.colab-display-data+json": {
              "pip_warning": {
                "packages": [
                  "google"
                ]
              }
            }
          },
          "metadata": {
            "tags": []
          }
        }
      ]
    },
    {
      "cell_type": "code",
      "metadata": {
        "id": "g3DPJWk0r66D"
      },
      "source": [
        ""
      ],
      "execution_count": null,
      "outputs": []
    },
    {
      "cell_type": "markdown",
      "metadata": {
        "id": "A1XvOZDxrJZu"
      },
      "source": [
        ""
      ]
    },
    {
      "cell_type": "code",
      "metadata": {
        "colab": {
          "base_uri": "https://localhost:8080/",
          "height": 147
        },
        "id": "Ozd_0IERpXju",
        "outputId": "ce9079b4-0dac-4e5b-f3b1-bc247d6f27d1"
      },
      "source": [
        "! cp ~/Downloads/sheet-contents-xxxx.json ~/aiffel/ocr_python/my_google_api_key.json"
      ],
      "execution_count": 1,
      "outputs": [
        {
          "output_type": "error",
          "ename": "SyntaxError",
          "evalue": "ignored",
          "traceback": [
            "\u001b[0;36m  File \u001b[0;32m\"<ipython-input-1-dbd31f25ac68>\"\u001b[0;36m, line \u001b[0;32m1\u001b[0m\n\u001b[0;31m    $ cp ~/Downloads/sheet-contents-xxxx.json ~/aiffel/ocr_python/my_google_api_key.json\u001b[0m\n\u001b[0m    ^\u001b[0m\n\u001b[0;31mSyntaxError\u001b[0m\u001b[0;31m:\u001b[0m invalid syntax\n"
          ]
        }
      ]
    },
    {
      "cell_type": "code",
      "metadata": {
        "id": "3bUGu4uFpciL"
      },
      "source": [
        "! export GOOGLE_APPLICATION_CREDENTIALS=$HOME/aiffel/ocr_python/my_google_api_key.json\n"
      ],
      "execution_count": null,
      "outputs": []
    },
    {
      "cell_type": "code",
      "metadata": {
        "id": "dyON-t1XpkkY"
      },
      "source": [
        "def detect_text(path):\n",
        "   \"\"\"Detects text in the file.\"\"\"\n",
        "   from google.cloud import vision\n",
        "   import io\n",
        "   client = vision.ImageAnnotatorClient()\n",
        "​\n",
        "   with io.open(path, 'rb') as image_file:\n",
        "       content = image_file.read()\n",
        "      \n",
        "   image = vision.Image(content=content)\n",
        "​\n",
        "   response = client.text_detection(image=image)\n",
        "   texts = response.text_annotations\n",
        "   print('Texts:')\n",
        "​\n",
        "   for text in texts:\n",
        "      print('\\n\"{}\"'.format(text.description))\n",
        "​\n",
        "   vertices = (['({},{})'.format(vertex.x, vertex.y)\n",
        "                for vertex in text.bounding_poly.vertices])\n",
        "​\n",
        "   print('bounds: {}'.format(','.join(vertices)))\n",
        "​\n",
        "   if response.error.message:\n",
        "       raise Exception(\n",
        "           '{}\\nFor more info on error messages, check: '\n",
        "           'https://cloud.google.com/apis/design/errors'.format(\n",
        "               response.error.message))\n",
        "# 다운받은 인증키 경로가 정확하게 지정되어 있어야 합니다.\n",
        "!ls -l $GOOGLE_APPLICATION_CREDENTIALS\n",
        "​\n",
        "import os\n",
        "os.environ[\"GOOGLE_APPLICATION_CREDENTIALS\"] =  os.getenv('HOME')+'/aiffel/ocr_python/my_google_api_key.json'\n",
        "​\n",
        "# 입력 이미지 경로를 지정해 주세요.\n",
        "# (예시) path = os.getenv('HOME')+'/aiffel/ocr_python/test_image.png'\n",
        "path = # [[YOUR IMAGE FILE PATH]]  \n",
        "​\n",
        "# 위에서 정의한 OCR API 이용 함수를 호출해 봅시다.\n",
        "detect_text(path)\n"
      ],
      "execution_count": null,
      "outputs": []
    },
    {
      "cell_type": "markdown",
      "metadata": {
        "id": "DdOMulWVpxf8"
      },
      "source": [
        "KERAS"
      ]
    },
    {
      "cell_type": "code",
      "metadata": {
        "colab": {
          "base_uri": "https://localhost:8080/"
        },
        "id": "1WsK0F5tpyvl",
        "outputId": "bddc12dc-750f-417d-a2cf-bed6b21e722d"
      },
      "source": [
        "! pip list | grep tensorflow"
      ],
      "execution_count": 2,
      "outputs": [
        {
          "output_type": "stream",
          "text": [
            "tensorflow                    2.4.1         \n",
            "tensorflow-datasets           4.0.1         \n",
            "tensorflow-estimator          2.4.0         \n",
            "tensorflow-gcs-config         2.4.0         \n",
            "tensorflow-hub                0.11.0        \n",
            "tensorflow-metadata           0.28.0        \n",
            "tensorflow-probability        0.12.1        \n"
          ],
          "name": "stdout"
        }
      ]
    },
    {
      "cell_type": "code",
      "metadata": {
        "colab": {
          "base_uri": "https://localhost:8080/"
        },
        "id": "Eja-LhAZqG1S",
        "outputId": "86455e96-13c2-47dd-af68-1eac1bb5fc89"
      },
      "source": [
        "! pip install keras-ocr"
      ],
      "execution_count": 3,
      "outputs": [
        {
          "output_type": "stream",
          "text": [
            "Collecting keras-ocr\n",
            "\u001b[?25l  Downloading https://files.pythonhosted.org/packages/da/80/912098e06d978c910c34b7cd779b467385f11eb09e5e94677a6a3199694b/keras-ocr-0.8.6.tar.gz (56kB)\n",
            "\u001b[K     |████████████████████████████████| 61kB 2.8MB/s \n",
            "\u001b[?25hCollecting essential_generators\n",
            "\u001b[?25l  Downloading https://files.pythonhosted.org/packages/ef/f4/20863402b45c3475c8ace4274c5ec870ba6df7259e9a4e3e1436c964f176/essential_generators-1.0-py3-none-any.whl (9.5MB)\n",
            "\u001b[K     |████████████████████████████████| 9.5MB 5.8MB/s \n",
            "\u001b[?25hRequirement already satisfied: tqdm in /usr/local/lib/python3.7/dist-packages (from keras-ocr) (4.41.1)\n",
            "Requirement already satisfied: imgaug in /usr/local/lib/python3.7/dist-packages (from keras-ocr) (0.2.9)\n",
            "Collecting validators\n",
            "  Downloading https://files.pythonhosted.org/packages/db/2f/7fed3ee94ad665ad2c1de87f858f10a7785251ff75b4fd47987888d07ef1/validators-0.18.2-py3-none-any.whl\n",
            "Collecting fonttools\n",
            "\u001b[?25l  Downloading https://files.pythonhosted.org/packages/8d/5f/e6ef963e844c10015d48f24381d64874775830d533543a69375f3c694855/fonttools-4.21.1-py3-none-any.whl (849kB)\n",
            "\u001b[K     |████████████████████████████████| 849kB 42.0MB/s \n",
            "\u001b[?25hRequirement already satisfied: editdistance in /usr/local/lib/python3.7/dist-packages (from keras-ocr) (0.5.3)\n",
            "Collecting pyclipper\n",
            "\u001b[?25l  Downloading https://files.pythonhosted.org/packages/69/5b/92df65d3e1e5c5623e67feeac92a18d28b0bf11bdd44d200245611b0fbb8/pyclipper-1.2.1-cp37-cp37m-manylinux1_x86_64.whl (126kB)\n",
            "\u001b[K     |████████████████████████████████| 133kB 45.2MB/s \n",
            "\u001b[?25hRequirement already satisfied: shapely in /usr/local/lib/python3.7/dist-packages (from keras-ocr) (1.7.1)\n",
            "Collecting efficientnet==1.0.0\n",
            "  Downloading https://files.pythonhosted.org/packages/97/82/f3ae07316f0461417dc54affab6e86ab188a5a22f33176d35271628b96e0/efficientnet-1.0.0-py3-none-any.whl\n",
            "Requirement already satisfied: Pillow in /usr/local/lib/python3.7/dist-packages (from imgaug->keras-ocr) (7.0.0)\n",
            "Requirement already satisfied: matplotlib in /usr/local/lib/python3.7/dist-packages (from imgaug->keras-ocr) (3.2.2)\n",
            "Requirement already satisfied: opencv-python in /usr/local/lib/python3.7/dist-packages (from imgaug->keras-ocr) (4.1.2.30)\n",
            "Requirement already satisfied: imageio in /usr/local/lib/python3.7/dist-packages (from imgaug->keras-ocr) (2.4.1)\n",
            "Requirement already satisfied: scipy in /usr/local/lib/python3.7/dist-packages (from imgaug->keras-ocr) (1.4.1)\n",
            "Requirement already satisfied: six in /usr/local/lib/python3.7/dist-packages (from imgaug->keras-ocr) (1.15.0)\n",
            "Requirement already satisfied: scikit-image>=0.11.0 in /usr/local/lib/python3.7/dist-packages (from imgaug->keras-ocr) (0.16.2)\n",
            "Requirement already satisfied: numpy>=1.15.0 in /usr/local/lib/python3.7/dist-packages (from imgaug->keras-ocr) (1.19.5)\n",
            "Requirement already satisfied: decorator>=3.4.0 in /usr/local/lib/python3.7/dist-packages (from validators->keras-ocr) (4.4.2)\n",
            "Collecting keras-applications<=1.0.8,>=1.0.7\n",
            "\u001b[?25l  Downloading https://files.pythonhosted.org/packages/71/e3/19762fdfc62877ae9102edf6342d71b28fbfd9dea3d2f96a882ce099b03f/Keras_Applications-1.0.8-py3-none-any.whl (50kB)\n",
            "\u001b[K     |████████████████████████████████| 51kB 5.3MB/s \n",
            "\u001b[?25hRequirement already satisfied: pyparsing!=2.0.4,!=2.1.2,!=2.1.6,>=2.0.1 in /usr/local/lib/python3.7/dist-packages (from matplotlib->imgaug->keras-ocr) (2.4.7)\n",
            "Requirement already satisfied: python-dateutil>=2.1 in /usr/local/lib/python3.7/dist-packages (from matplotlib->imgaug->keras-ocr) (2.8.1)\n",
            "Requirement already satisfied: cycler>=0.10 in /usr/local/lib/python3.7/dist-packages (from matplotlib->imgaug->keras-ocr) (0.10.0)\n",
            "Requirement already satisfied: kiwisolver>=1.0.1 in /usr/local/lib/python3.7/dist-packages (from matplotlib->imgaug->keras-ocr) (1.3.1)\n",
            "Requirement already satisfied: networkx>=2.0 in /usr/local/lib/python3.7/dist-packages (from scikit-image>=0.11.0->imgaug->keras-ocr) (2.5)\n",
            "Requirement already satisfied: PyWavelets>=0.4.0 in /usr/local/lib/python3.7/dist-packages (from scikit-image>=0.11.0->imgaug->keras-ocr) (1.1.1)\n",
            "Requirement already satisfied: h5py in /usr/local/lib/python3.7/dist-packages (from keras-applications<=1.0.8,>=1.0.7->efficientnet==1.0.0->keras-ocr) (2.10.0)\n",
            "Building wheels for collected packages: keras-ocr\n",
            "  Building wheel for keras-ocr (setup.py) ... \u001b[?25l\u001b[?25hdone\n",
            "  Created wheel for keras-ocr: filename=keras_ocr-0.8.6-cp37-none-any.whl size=42937 sha256=089d1561274dd6fd48f3f010e33d4a598a5739309e0b4e2f6b3b062878c27795\n",
            "  Stored in directory: /root/.cache/pip/wheels/79/59/e6/79dd15333b911d51ea68d7e4c325e14f042eacc141201dca44\n",
            "Successfully built keras-ocr\n",
            "Installing collected packages: essential-generators, validators, fonttools, pyclipper, keras-applications, efficientnet, keras-ocr\n",
            "Successfully installed efficientnet-1.0.0 essential-generators-1.0 fonttools-4.21.1 keras-applications-1.0.8 keras-ocr-0.8.6 pyclipper-1.2.1 validators-0.18.2\n"
          ],
          "name": "stdout"
        }
      ]
    },
    {
      "cell_type": "code",
      "metadata": {
        "id": "O1WgXI2_qJdT"
      },
      "source": [
        "import matplotlib.pyplot as plt\n",
        "import keras_ocr\n"
      ],
      "execution_count": 4,
      "outputs": []
    },
    {
      "cell_type": "code",
      "metadata": {
        "colab": {
          "base_uri": "https://localhost:8080/"
        },
        "id": "tearpi6VqPvb",
        "outputId": "eca0bfd9-9f33-4511-be8d-929c203287a3"
      },
      "source": [
        "# keras-ocr이 detector과 recognizer를 위한 모델을 자동으로 다운로드받게 됩니다.\n",
        "pipeline = keras_ocr.pipeline.Pipeline()\n",
        "\n"
      ],
      "execution_count": 6,
      "outputs": [
        {
          "output_type": "stream",
          "text": [
            "Looking for /root/.keras-ocr/craft_mlt_25k.h5\n",
            "Downloading /root/.keras-ocr/craft_mlt_25k.h5\n",
            "Looking for /root/.keras-ocr/crnn_kurapan.h5\n",
            "Downloading /root/.keras-ocr/crnn_kurapan.h5\n"
          ],
          "name": "stdout"
        }
      ]
    },
    {
      "cell_type": "code",
      "metadata": {
        "id": "Ncpcx2r2qcu8"
      },
      "source": [
        "# 테스트에 사용할 이미지 url을 모아 봅니다. 추가로 더 모아볼 수도 있습니다.\n",
        "image_urls = [\n",
        " 'https://source.unsplash.com/M7mu6jXlcns/640x460',\n",
        " 'https://source.unsplash.com/6jsp4iHc8hI/640x460',\n",
        " 'https://source.unsplash.com/98uYQ-KupiE',\n",
        " 'https://source.unsplash.com/j9JoYpaJH3A',\n",
        " 'https://source.unsplash.com/eBkEJ9cH5b4'\n",
        "]\n",
        "images = [ keras_ocr.tools.read(url) for url in image_urls]\n",
        "prediction_groups = [pipeline.recognize([url]) for url in image_urls]\n"
      ],
      "execution_count": 8,
      "outputs": []
    },
    {
      "cell_type": "code",
      "metadata": {
        "id": "mP-wxCorqpBu"
      },
      "source": [
        "# Plot the predictions\n",
        "fig, axs = plt.subplots(nrows=len(images), figsize=(20, 20))\n",
        "for idx, ax in enumerate(axs):\n",
        "   keras_ocr.tools.drawAnnotations(image=images[idx],\n",
        "                                   predictions=prediction_groups[idx][0], ax=ax)\n"
      ],
      "execution_count": null,
      "outputs": []
    },
    {
      "cell_type": "markdown",
      "metadata": {
        "id": "Tl9UD8BxqsXG"
      },
      "source": [
        "Tesseract "
      ]
    },
    {
      "cell_type": "code",
      "metadata": {
        "id": "vRv8Z8kXqwLm"
      },
      "source": [
        "! sudo apt install tesseract-ocr\n",
        "! sudo apt install libtesseract-dev\n",
        "! sudo apt install tesseract-ocr-kor\n"
      ],
      "execution_count": null,
      "outputs": []
    },
    {
      "cell_type": "code",
      "metadata": {
        "id": "iAY4B4NTqz7e"
      },
      "source": [
        "! pip install pytesseract"
      ],
      "execution_count": null,
      "outputs": []
    },
    {
      "cell_type": "code",
      "metadata": {
        "id": "beoTpt0Pq5jz"
      },
      "source": [
        "import os\n",
        "import pytesseract\n",
        "from PIL import Image\n",
        "from pytesseract import Output\n",
        "import matplotlib.pyplot as plt\n",
        "​\n",
        "# OCR Engine modes(–oem):\n",
        "# 0 - Legacy engine only.\n",
        "# 1 - Neural nets LSTM engine only.\n",
        "# 2 - Legacy + LSTM engines.\n",
        "# 3 - Default, based on what is available.\n",
        "​\n",
        "# Page segmentation modes(–psm):\n",
        "# 0 - Orientation and script detection (OSD) only.\n",
        "# 1 - Automatic page segmentation with OSD.\n",
        "# 2 - Automatic page segmentation, but no OSD, or OCR.\n",
        "# 3 - Fully automatic page segmentation, but no OSD. (Default)\n",
        "# 4 - Assume a single column of text of variable sizes.\n",
        "# 5 - Assume a single uniform block of vertically aligned text.\n",
        "# 6 - Assume a single uniform block of text.\n",
        "# 7 - Treat the image as a single text line.\n",
        "# 8 - Treat the image as a single word.\n",
        "# 9 - Treat the image as a single word in a circle.\n",
        "# 10 - Treat the image as a single character.\n",
        "# 11 - Sparse text. Find as much text as possible in no particular order.\n",
        "# 12 - Sparse text with OSD.\n",
        "# 13 - Raw line. Treat the image as a single text line, bypassing hacks that are Tesseract-specific.\n",
        "​\n",
        "def crop_word_regions(image_path='./images/sample.png', output_path='./output'):\n",
        "   if not os.path.exists(output_path):\n",
        "       os.mkdir(output_path)\n",
        "   custom_oem_psm_config = r'--oem 3 --psm 3'\n",
        "   image = Image.open(image_path)\n",
        "​\n",
        "   recognized_data = pytesseract.image_to_data(\n",
        "       image, lang='eng',    # 한국어라면 lang='kor'\n",
        "       config=custom_oem_psm_config,\n",
        "       output_type=Output.DICT\n",
        "   )\n",
        "  \n",
        "   top_level = max(recognized_data['level'])\n",
        "   index = 0\n",
        "   cropped_image_path_list = []\n",
        "   for i in range(len(recognized_data['level'])):\n",
        "       level = recognized_data['level'][i]\n",
        "  \n",
        "       if level == top_level:\n",
        "           left = recognized_data['left'][i]\n",
        "           top = recognized_data['top'][i]\n",
        "           width = recognized_data['width'][i]\n",
        "           height = recognized_data['height'][i]\n",
        "          \n",
        "           output_img_path = os.path.join(output_path, f\"{str(index).zfill(4)}.png\")\n",
        "           print(output_img_path)\n",
        "           cropped_image = image.crop((\n",
        "               left,\n",
        "               top,\n",
        "               left+width,\n",
        "               top+height\n",
        "           ))\n",
        "           cropped_image.save(output_img_path)\n",
        "           cropped_image_path_list.append(output_img_path)\n",
        "           index += 1\n",
        "   return cropped_image_path_list\n",
        "​\n",
        "​\n",
        "work_dir = os.getenv('HOME')+'/aiffel/ocr_python'\n",
        "img_file_path = work_dir + '/test_image.png'   #테스트용 이미지 경로입니다. 본인이 선택한 파일명으로 바꿔주세요.\n"
      ],
      "execution_count": null,
      "outputs": []
    },
    {
      "cell_type": "code",
      "metadata": {
        "id": "-raVqUXprBbF"
      },
      "source": [
        "def recognize_images(cropped_image_path_list):\n",
        "   custom_oem_psm_config = r'--oem 3 --psm 7'\n",
        "  \n",
        "   for image_path in cropped_image_path_list:\n",
        "       image = Image.open(image_path)\n",
        "       recognized_data = pytesseract.image_to_string(\n",
        "           image, lang='eng',    # 한국어라면 lang='kor'\n",
        "           config=custom_oem_psm_config,\n",
        "           output_type=Output.DICT\n",
        "       )\n",
        "       print(recognized_data['text'])\n",
        "   print(\"Done\")\n",
        "​\n",
        "# 위에서 준비한 문자 영역 파일들을 인식하여 얻어진 텍스트를 출력합니다.\n",
        "recognize_images(cropped_image_path_list)\n"
      ],
      "execution_count": null,
      "outputs": []
    }
  ]
}