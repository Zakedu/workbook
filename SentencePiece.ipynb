{
  "nbformat": 4,
  "nbformat_minor": 0,
  "metadata": {
    "colab": {
      "name": "SentencePiece",
      "provenance": [],
      "authorship_tag": "ABX9TyNXBwi4z2rE+Kta/yMsJKCq",
      "include_colab_link": true
    },
    "kernelspec": {
      "name": "python3",
      "display_name": "Python 3"
    },
    "language_info": {
      "name": "python"
    }
  },
  "cells": [
    {
      "cell_type": "markdown",
      "metadata": {
        "id": "view-in-github",
        "colab_type": "text"
      },
      "source": [
        "<a href=\"https://colab.research.google.com/github/Zakedu/workbook/blob/main/SentencePiece.ipynb\" target=\"_parent\"><img src=\"https://colab.research.google.com/assets/colab-badge.svg\" alt=\"Open In Colab\"/></a>"
      ]
    },
    {
      "cell_type": "code",
      "metadata": {
        "colab": {
          "base_uri": "https://localhost:8080/"
        },
        "id": "ighPNHKIz2Vb",
        "outputId": "e5e518e0-75fa-4565-af4d-9abfdee7288b"
      },
      "source": [
        "!pip install sentencepiece"
      ],
      "execution_count": 1,
      "outputs": [
        {
          "output_type": "stream",
          "text": [
            "Collecting sentencepiece\n",
            "\u001b[?25l  Downloading https://files.pythonhosted.org/packages/f5/99/e0808cb947ba10f575839c43e8fafc9cc44e4a7a2c8f79c60db48220a577/sentencepiece-0.1.95-cp37-cp37m-manylinux2014_x86_64.whl (1.2MB)\n",
            "\r\u001b[K     |▎                               | 10kB 17.0MB/s eta 0:00:01\r\u001b[K     |▌                               | 20kB 17.3MB/s eta 0:00:01\r\u001b[K     |▉                               | 30kB 14.4MB/s eta 0:00:01\r\u001b[K     |█                               | 40kB 14.4MB/s eta 0:00:01\r\u001b[K     |█▍                              | 51kB 16.8MB/s eta 0:00:01\r\u001b[K     |█▋                              | 61kB 16.4MB/s eta 0:00:01\r\u001b[K     |██                              | 71kB 14.0MB/s eta 0:00:01\r\u001b[K     |██▏                             | 81kB 14.4MB/s eta 0:00:01\r\u001b[K     |██▌                             | 92kB 12.6MB/s eta 0:00:01\r\u001b[K     |██▊                             | 102kB 11.0MB/s eta 0:00:01\r\u001b[K     |███                             | 112kB 11.0MB/s eta 0:00:01\r\u001b[K     |███▎                            | 122kB 11.0MB/s eta 0:00:01\r\u001b[K     |███▌                            | 133kB 11.0MB/s eta 0:00:01\r\u001b[K     |███▉                            | 143kB 11.0MB/s eta 0:00:01\r\u001b[K     |████                            | 153kB 11.0MB/s eta 0:00:01\r\u001b[K     |████▍                           | 163kB 11.0MB/s eta 0:00:01\r\u001b[K     |████▋                           | 174kB 11.0MB/s eta 0:00:01\r\u001b[K     |█████                           | 184kB 11.0MB/s eta 0:00:01\r\u001b[K     |█████▏                          | 194kB 11.0MB/s eta 0:00:01\r\u001b[K     |█████▌                          | 204kB 11.0MB/s eta 0:00:01\r\u001b[K     |█████▊                          | 215kB 11.0MB/s eta 0:00:01\r\u001b[K     |██████                          | 225kB 11.0MB/s eta 0:00:01\r\u001b[K     |██████▎                         | 235kB 11.0MB/s eta 0:00:01\r\u001b[K     |██████▌                         | 245kB 11.0MB/s eta 0:00:01\r\u001b[K     |██████▉                         | 256kB 11.0MB/s eta 0:00:01\r\u001b[K     |███████                         | 266kB 11.0MB/s eta 0:00:01\r\u001b[K     |███████▍                        | 276kB 11.0MB/s eta 0:00:01\r\u001b[K     |███████▋                        | 286kB 11.0MB/s eta 0:00:01\r\u001b[K     |████████                        | 296kB 11.0MB/s eta 0:00:01\r\u001b[K     |████████▏                       | 307kB 11.0MB/s eta 0:00:01\r\u001b[K     |████████▍                       | 317kB 11.0MB/s eta 0:00:01\r\u001b[K     |████████▊                       | 327kB 11.0MB/s eta 0:00:01\r\u001b[K     |█████████                       | 337kB 11.0MB/s eta 0:00:01\r\u001b[K     |█████████▎                      | 348kB 11.0MB/s eta 0:00:01\r\u001b[K     |█████████▌                      | 358kB 11.0MB/s eta 0:00:01\r\u001b[K     |█████████▉                      | 368kB 11.0MB/s eta 0:00:01\r\u001b[K     |██████████                      | 378kB 11.0MB/s eta 0:00:01\r\u001b[K     |██████████▍                     | 389kB 11.0MB/s eta 0:00:01\r\u001b[K     |██████████▋                     | 399kB 11.0MB/s eta 0:00:01\r\u001b[K     |███████████                     | 409kB 11.0MB/s eta 0:00:01\r\u001b[K     |███████████▏                    | 419kB 11.0MB/s eta 0:00:01\r\u001b[K     |███████████▍                    | 430kB 11.0MB/s eta 0:00:01\r\u001b[K     |███████████▊                    | 440kB 11.0MB/s eta 0:00:01\r\u001b[K     |████████████                    | 450kB 11.0MB/s eta 0:00:01\r\u001b[K     |████████████▎                   | 460kB 11.0MB/s eta 0:00:01\r\u001b[K     |████████████▌                   | 471kB 11.0MB/s eta 0:00:01\r\u001b[K     |████████████▉                   | 481kB 11.0MB/s eta 0:00:01\r\u001b[K     |█████████████                   | 491kB 11.0MB/s eta 0:00:01\r\u001b[K     |█████████████▍                  | 501kB 11.0MB/s eta 0:00:01\r\u001b[K     |█████████████▋                  | 512kB 11.0MB/s eta 0:00:01\r\u001b[K     |█████████████▉                  | 522kB 11.0MB/s eta 0:00:01\r\u001b[K     |██████████████▏                 | 532kB 11.0MB/s eta 0:00:01\r\u001b[K     |██████████████▍                 | 542kB 11.0MB/s eta 0:00:01\r\u001b[K     |██████████████▊                 | 552kB 11.0MB/s eta 0:00:01\r\u001b[K     |███████████████                 | 563kB 11.0MB/s eta 0:00:01\r\u001b[K     |███████████████▎                | 573kB 11.0MB/s eta 0:00:01\r\u001b[K     |███████████████▌                | 583kB 11.0MB/s eta 0:00:01\r\u001b[K     |███████████████▉                | 593kB 11.0MB/s eta 0:00:01\r\u001b[K     |████████████████                | 604kB 11.0MB/s eta 0:00:01\r\u001b[K     |████████████████▍               | 614kB 11.0MB/s eta 0:00:01\r\u001b[K     |████████████████▋               | 624kB 11.0MB/s eta 0:00:01\r\u001b[K     |████████████████▉               | 634kB 11.0MB/s eta 0:00:01\r\u001b[K     |█████████████████▏              | 645kB 11.0MB/s eta 0:00:01\r\u001b[K     |█████████████████▍              | 655kB 11.0MB/s eta 0:00:01\r\u001b[K     |█████████████████▊              | 665kB 11.0MB/s eta 0:00:01\r\u001b[K     |██████████████████              | 675kB 11.0MB/s eta 0:00:01\r\u001b[K     |██████████████████▎             | 686kB 11.0MB/s eta 0:00:01\r\u001b[K     |██████████████████▌             | 696kB 11.0MB/s eta 0:00:01\r\u001b[K     |██████████████████▉             | 706kB 11.0MB/s eta 0:00:01\r\u001b[K     |███████████████████             | 716kB 11.0MB/s eta 0:00:01\r\u001b[K     |███████████████████▎            | 727kB 11.0MB/s eta 0:00:01\r\u001b[K     |███████████████████▋            | 737kB 11.0MB/s eta 0:00:01\r\u001b[K     |███████████████████▉            | 747kB 11.0MB/s eta 0:00:01\r\u001b[K     |████████████████████▏           | 757kB 11.0MB/s eta 0:00:01\r\u001b[K     |████████████████████▍           | 768kB 11.0MB/s eta 0:00:01\r\u001b[K     |████████████████████▊           | 778kB 11.0MB/s eta 0:00:01\r\u001b[K     |█████████████████████           | 788kB 11.0MB/s eta 0:00:01\r\u001b[K     |█████████████████████▎          | 798kB 11.0MB/s eta 0:00:01\r\u001b[K     |█████████████████████▌          | 808kB 11.0MB/s eta 0:00:01\r\u001b[K     |█████████████████████▉          | 819kB 11.0MB/s eta 0:00:01\r\u001b[K     |██████████████████████          | 829kB 11.0MB/s eta 0:00:01\r\u001b[K     |██████████████████████▎         | 839kB 11.0MB/s eta 0:00:01\r\u001b[K     |██████████████████████▋         | 849kB 11.0MB/s eta 0:00:01\r\u001b[K     |██████████████████████▉         | 860kB 11.0MB/s eta 0:00:01\r\u001b[K     |███████████████████████▏        | 870kB 11.0MB/s eta 0:00:01\r\u001b[K     |███████████████████████▍        | 880kB 11.0MB/s eta 0:00:01\r\u001b[K     |███████████████████████▊        | 890kB 11.0MB/s eta 0:00:01\r\u001b[K     |████████████████████████        | 901kB 11.0MB/s eta 0:00:01\r\u001b[K     |████████████████████████▎       | 911kB 11.0MB/s eta 0:00:01\r\u001b[K     |████████████████████████▌       | 921kB 11.0MB/s eta 0:00:01\r\u001b[K     |████████████████████████▊       | 931kB 11.0MB/s eta 0:00:01\r\u001b[K     |█████████████████████████       | 942kB 11.0MB/s eta 0:00:01\r\u001b[K     |█████████████████████████▎      | 952kB 11.0MB/s eta 0:00:01\r\u001b[K     |█████████████████████████▋      | 962kB 11.0MB/s eta 0:00:01\r\u001b[K     |█████████████████████████▉      | 972kB 11.0MB/s eta 0:00:01\r\u001b[K     |██████████████████████████▏     | 983kB 11.0MB/s eta 0:00:01\r\u001b[K     |██████████████████████████▍     | 993kB 11.0MB/s eta 0:00:01\r\u001b[K     |██████████████████████████▊     | 1.0MB 11.0MB/s eta 0:00:01\r\u001b[K     |███████████████████████████     | 1.0MB 11.0MB/s eta 0:00:01\r\u001b[K     |███████████████████████████▎    | 1.0MB 11.0MB/s eta 0:00:01\r\u001b[K     |███████████████████████████▌    | 1.0MB 11.0MB/s eta 0:00:01\r\u001b[K     |███████████████████████████▊    | 1.0MB 11.0MB/s eta 0:00:01\r\u001b[K     |████████████████████████████    | 1.1MB 11.0MB/s eta 0:00:01\r\u001b[K     |████████████████████████████▎   | 1.1MB 11.0MB/s eta 0:00:01\r\u001b[K     |████████████████████████████▋   | 1.1MB 11.0MB/s eta 0:00:01\r\u001b[K     |████████████████████████████▉   | 1.1MB 11.0MB/s eta 0:00:01\r\u001b[K     |█████████████████████████████▏  | 1.1MB 11.0MB/s eta 0:00:01\r\u001b[K     |█████████████████████████████▍  | 1.1MB 11.0MB/s eta 0:00:01\r\u001b[K     |█████████████████████████████▊  | 1.1MB 11.0MB/s eta 0:00:01\r\u001b[K     |██████████████████████████████  | 1.1MB 11.0MB/s eta 0:00:01\r\u001b[K     |██████████████████████████████▏ | 1.1MB 11.0MB/s eta 0:00:01\r\u001b[K     |██████████████████████████████▌ | 1.1MB 11.0MB/s eta 0:00:01\r\u001b[K     |██████████████████████████████▊ | 1.2MB 11.0MB/s eta 0:00:01\r\u001b[K     |███████████████████████████████ | 1.2MB 11.0MB/s eta 0:00:01\r\u001b[K     |███████████████████████████████▎| 1.2MB 11.0MB/s eta 0:00:01\r\u001b[K     |███████████████████████████████▋| 1.2MB 11.0MB/s eta 0:00:01\r\u001b[K     |███████████████████████████████▉| 1.2MB 11.0MB/s eta 0:00:01\r\u001b[K     |████████████████████████████████| 1.2MB 11.0MB/s \n",
            "\u001b[?25hInstalling collected packages: sentencepiece\n",
            "Successfully installed sentencepiece-0.1.95\n"
          ],
          "name": "stdout"
        }
      ]
    },
    {
      "cell_type": "code",
      "metadata": {
        "id": "c9WkA2RXz_an"
      },
      "source": [
        "def tokenize(corpus):  # corpus: Tokenized Sentence's List\n",
        "    tokenizer = tf.keras.preprocessing.text.Tokenizer(filters='')\n",
        "    tokenizer.fit_on_texts(corpus)\n",
        "\n",
        "    tensor = tokenizer.texts_to_sequences(corpus)\n",
        "\n",
        "    tensor = tf.keras.preprocessing.sequence.pad_sequences(tensor, padding='post')\n",
        "\n",
        "    return tensor, tokenizer"
      ],
      "execution_count": null,
      "outputs": []
    },
    {
      "cell_type": "code",
      "metadata": {
        "id": "WfpXF3iT0CLc"
      },
      "source": [
        "import sentencepiece as spm\n",
        "import os\n",
        "temp_file = os.getenv('HOME')+'/aiffel/sp_tokenizer/data/korean-english-park.train.ko.temp'\n",
        "\n",
        "vocab_size = 8000\n",
        "\n",
        "with open(temp_file, 'w') as f:\n",
        "    for row in filtered_corpus:   # 이전 스텝에서 정제했던 corpus를 활용합니다.\n",
        "        f.write(str(row) + '\\n')\n",
        "\n",
        "spm.SentencePieceTrainer.Train(\n",
        "    '--input={} --model_prefix=korean_spm --vocab_size={}'.format(temp_file, vocab_size)    \n",
        ")\n",
        "#위 Train에서  --model_type = 'unigram'이 디폴트 적용되어 있습니다. --model_type = 'bpe' 로 옵션을 주어 변경할 수 있습니다.\n",
        "\n",
        "!ls -l korean_spm*"
      ],
      "execution_count": null,
      "outputs": []
    },
    {
      "cell_type": "code",
      "metadata": {
        "id": "zcizMKQL0ED6"
      },
      "source": [
        "s = spm.SentencePieceProcessor()\n",
        "s.Load('korean_spm.model')\n",
        "\n",
        "# SentencePiece를 활용한 sentence -> encoding\n",
        "tokensIDs = s.EncodeAsIds('아버지가방에들어가신다.')\n",
        "print(tokensIDs)\n",
        "\n",
        "# SentencePiece를 활용한 sentence -> encoded pieces\n",
        "print(s.SampleEncodeAsPieces('아버지가방에들어가신다.',1, 0.0))\n",
        "\n",
        "# SentencePiece를 활용한 encoding -> sentence 복원\n",
        "print(s.DecodeIds(tokensIDs))"
      ],
      "execution_count": null,
      "outputs": []
    },
    {
      "cell_type": "code",
      "metadata": {
        "id": "yedzHRCV0Thk"
      },
      "source": [
        "def sp_tokenize(s, corpus):\n",
        "\n",
        "    tensor = []\n",
        "\n",
        "    for sen in corpus:\n",
        "        tensor.append(s.EncodeAsIds(sen))\n",
        "\n",
        "    with open(\"./korean_spm.vocab\", 'r') as f:\n",
        "        vocab = f.readlines()\n",
        "\n",
        "    word_index = {}\n",
        "    index_word = {}\n",
        "\n",
        "    for idx, line in enumerate(vocab):\n",
        "        word = line.split(\"\\t\")[0]\n",
        "\n",
        "        word_index.update({idx:word})\n",
        "        index_word.update({word:idx})\n",
        "\n",
        "    tensor = tf.keras.preprocessing.sequence.pad_sequences(tensor, padding='post')\n",
        "\n",
        "    return tensor, word_index, index_word"
      ],
      "execution_count": null,
      "outputs": []
    },
    {
      "cell_type": "code",
      "metadata": {
        "id": "lGYCCSkr0Vjk"
      },
      "source": [
        "#sp_tokenize(s, corpus) 사용예제\n",
        "\n",
        "my_corpus = ['나는 밥을 먹었습니다.', '그러나 여전히 ㅠㅠ 배가 고픕니다...']\n",
        "tensor, word_index, index_word = sp_tokenize(s, my_corpus)\n",
        "print(tensor)"
      ],
      "execution_count": null,
      "outputs": []
    }
  ]
}