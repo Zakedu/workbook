{
 "cells": [
  {
   "cell_type": "markdown",
   "metadata": {
    "id": "T3eNtjgjllAb"
   },
   "source": [
    "#뉴스기사 요약해보기\n",
    "\n",
    "##Step 1. 데이터 수집하기\n",
    "##Step 2. 데이터 전처리하기 (추상적 요약)\n",
    " 1) 실습 전처리\n",
    " 2) 필요하다고 생각하는 전처리\n",
    " 단, 불용어 제거시 상대적으로 짧은 요약 데이터에 대해서 불용어 제거할 것인지 고민할 것\n",
    "##Step 3. 어텐션 메커니즘 사용하기 (추상적 요약)\n",
    " 1) 시퀀스2시퀀스보다 어텐션 메커니즘이 좀 더 나은 성능 보임\n",
    " 어텐션 메커니즘 설계해 볼 것\n",
    "##Step 4. 실제 결과와 요약문 비교하기 (추상적 요약)\n",
    " 1) 원래의 요약문(헤드라인열) 과 학습을 통해 얻은 추상적 요약의 결과를 비교할 것\n",
    "##Step 5. Summa을 이용해서 추출적 요약해보기\n",
    " 1) 추상적 요약은 추출적 요약과 달리 문장의 표현력을 다양하게 가져갈 수 있지만, 난도가 높음\n",
    "   반대로 말하면 추출적 요약은 추상적 요약에 비해 난도가 낮고 기존 문장에서 문장을 꺼내오기 때문에 잘못된 요약이 나올 가능성이 낮음.\n",
    "   summa 의 summarize 를 사용하여 추출적 요약해볼 것.\n",
    "\n",
    "   \n",
    "\n"
   ]
  },
  {
   "cell_type": "code",
   "execution_count": 1,
   "metadata": {
    "colab": {
     "base_uri": "https://localhost:8080/"
    },
    "id": "86GU90r7nHMl",
    "outputId": "3cf06f5c-b193-41dc-d661-692f63ebc6bf"
   },
   "outputs": [
    {
     "name": "stdout",
     "output_type": "stream",
     "text": [
      "Requirement already satisfied: nltk in /home/ssac9/anaconda3/envs/aiffel/lib/python3.7/site-packages (3.5)\n",
      "Requirement already satisfied: tqdm in /home/ssac9/anaconda3/envs/aiffel/lib/python3.7/site-packages (from nltk) (4.55.0)\n",
      "Requirement already satisfied: click in /home/ssac9/anaconda3/envs/aiffel/lib/python3.7/site-packages (from nltk) (7.1.2)\n",
      "Requirement already satisfied: regex in /home/ssac9/anaconda3/envs/aiffel/lib/python3.7/site-packages (from nltk) (2020.11.13)\n",
      "Requirement already satisfied: joblib in /home/ssac9/anaconda3/envs/aiffel/lib/python3.7/site-packages (from nltk) (1.0.0)\n",
      "Requirement already satisfied: beautifulsoup4 in /home/ssac9/anaconda3/envs/aiffel/lib/python3.7/site-packages (4.6.0)\n"
     ]
    },
    {
     "name": "stderr",
     "output_type": "stream",
     "text": [
      "[nltk_data] Downloading package stopwords to /home/ssac9/nltk_data...\n",
      "[nltk_data]   Package stopwords is already up-to-date!\n"
     ]
    }
   ],
   "source": [
    "#NLTK Lib install\n",
    "!pip install nltk\n",
    "\n",
    "#BeautifulSoup lib install\n",
    "!pip install beautifulsoup4\n",
    "\n",
    "#불용어 사전 다운로드\n",
    "import nltk\n",
    "nltk.download('stopwords')\n",
    "\n",
    "#데이터 전처리 위한 나머지 패키지 로드\n",
    "import numpy as np\n",
    "import pandas as pd\n",
    "import os\n",
    "import re\n",
    "import matplotlib.pyplot as plt\n",
    "from nltk.corpus import stopwords\n",
    "from bs4 import BeautifulSoup\n",
    "from tensorflow.keras.preprocessing.text import Tokenizer\n",
    "from tensorflow.keras.preprocessing.sequence import pad_sequences\n",
    "import urllib.request\n"
   ]
  },
  {
   "cell_type": "code",
   "execution_count": 2,
   "metadata": {
    "id": "7iI4xnWglYb6"
   },
   "outputs": [],
   "source": [
    "#데이터 다운로드\n",
    "\n",
    "\n",
    "import urllib.request\n",
    "\n",
    "urllib.request.urlretrieve(\"https://raw.githubusercontent.com/sunnysai12345/News_Summary/master/news_summary_more.csv\", filename=\"news_summary_more.csv\")\n",
    "data = pd.read_csv('news_summary_more.csv', encoding='iso-8859-1')\n"
   ]
  },
  {
   "cell_type": "code",
   "execution_count": 3,
   "metadata": {
    "colab": {
     "base_uri": "https://localhost:8080/",
     "height": 359
    },
    "id": "EDsy06tAnmjz",
    "outputId": "7ddb7061-58d5-46a5-d890-f69d5c5fc50d"
   },
   "outputs": [
    {
     "data": {
      "text/html": [
       "<div>\n",
       "<style scoped>\n",
       "    .dataframe tbody tr th:only-of-type {\n",
       "        vertical-align: middle;\n",
       "    }\n",
       "\n",
       "    .dataframe tbody tr th {\n",
       "        vertical-align: top;\n",
       "    }\n",
       "\n",
       "    .dataframe thead th {\n",
       "        text-align: right;\n",
       "    }\n",
       "</style>\n",
       "<table border=\"1\" class=\"dataframe\">\n",
       "  <thead>\n",
       "    <tr style=\"text-align: right;\">\n",
       "      <th></th>\n",
       "      <th>headlines</th>\n",
       "      <th>text</th>\n",
       "    </tr>\n",
       "  </thead>\n",
       "  <tbody>\n",
       "    <tr>\n",
       "      <th>27601</th>\n",
       "      <td>MU to allow students who missed test over rain...</td>\n",
       "      <td>Mumbai University has announced that students ...</td>\n",
       "    </tr>\n",
       "    <tr>\n",
       "      <th>63369</th>\n",
       "      <td>Indoor pollution killed 1.24L across India in ...</td>\n",
       "      <td>Indoor pollution led to over 1.24 lakh prematu...</td>\n",
       "    </tr>\n",
       "    <tr>\n",
       "      <th>62356</th>\n",
       "      <td>What are the biggest data leaks in the world?</td>\n",
       "      <td>The Panama Papers leak from last year is the w...</td>\n",
       "    </tr>\n",
       "    <tr>\n",
       "      <th>27766</th>\n",
       "      <td>No cutting of trees in Delhi till July 19, ord...</td>\n",
       "      <td>The National Green Tribunal (NGT) has directed...</td>\n",
       "    </tr>\n",
       "    <tr>\n",
       "      <th>57812</th>\n",
       "      <td>1 in 7 traffic cops suffers from breathing pro...</td>\n",
       "      <td>At least one in every seven traffic policemen ...</td>\n",
       "    </tr>\n",
       "    <tr>\n",
       "      <th>38063</th>\n",
       "      <td>Shirish Kunder tweets 'Delhi L-G not working',...</td>\n",
       "      <td>Taking a dig at Delhi Lieutenant Governor Anil...</td>\n",
       "    </tr>\n",
       "    <tr>\n",
       "      <th>92237</th>\n",
       "      <td>US scientists to protest Trump policies in Was...</td>\n",
       "      <td>US scientists will stage a 'March for Science'...</td>\n",
       "    </tr>\n",
       "    <tr>\n",
       "      <th>47345</th>\n",
       "      <td>Mayor sends legal notice to Delhi CM for defam...</td>\n",
       "      <td>North Delhi mayor and BJP leader Preety Agarwa...</td>\n",
       "    </tr>\n",
       "    <tr>\n",
       "      <th>39015</th>\n",
       "      <td>If female models earn more then so should male...</td>\n",
       "      <td>Rafael Nadal has said that if female supermode...</td>\n",
       "    </tr>\n",
       "    <tr>\n",
       "      <th>57721</th>\n",
       "      <td>UK must apologise for Jallianwala Bagh massacr...</td>\n",
       "      <td>It is time for the \"British government to fina...</td>\n",
       "    </tr>\n",
       "  </tbody>\n",
       "</table>\n",
       "</div>"
      ],
      "text/plain": [
       "                                               headlines  \\\n",
       "27601  MU to allow students who missed test over rain...   \n",
       "63369  Indoor pollution killed 1.24L across India in ...   \n",
       "62356      What are the biggest data leaks in the world?   \n",
       "27766  No cutting of trees in Delhi till July 19, ord...   \n",
       "57812  1 in 7 traffic cops suffers from breathing pro...   \n",
       "38063  Shirish Kunder tweets 'Delhi L-G not working',...   \n",
       "92237  US scientists to protest Trump policies in Was...   \n",
       "47345  Mayor sends legal notice to Delhi CM for defam...   \n",
       "39015  If female models earn more then so should male...   \n",
       "57721  UK must apologise for Jallianwala Bagh massacr...   \n",
       "\n",
       "                                                    text  \n",
       "27601  Mumbai University has announced that students ...  \n",
       "63369  Indoor pollution led to over 1.24 lakh prematu...  \n",
       "62356  The Panama Papers leak from last year is the w...  \n",
       "27766  The National Green Tribunal (NGT) has directed...  \n",
       "57812  At least one in every seven traffic policemen ...  \n",
       "38063  Taking a dig at Delhi Lieutenant Governor Anil...  \n",
       "92237  US scientists will stage a 'March for Science'...  \n",
       "47345  North Delhi mayor and BJP leader Preety Agarwa...  \n",
       "39015  Rafael Nadal has said that if female supermode...  \n",
       "57721  It is time for the \"British government to fina...  "
      ]
     },
     "execution_count": 3,
     "metadata": {},
     "output_type": "execute_result"
    }
   ],
   "source": [
    "#data sample check\n",
    "\n",
    "data=pd.read_csv(os.getenv('HOME')+\"/news_summary_more.csv\",encoding='iso-8859-1')\n",
    "\n",
    "data.sample(10)"
   ]
  },
  {
   "cell_type": "code",
   "execution_count": 4,
   "metadata": {
    "colab": {
     "base_uri": "https://localhost:8080/"
    },
    "id": "Pmr5DYTuooB0",
    "outputId": "8f949141-2df7-4f90-b754-ac2dfed9965e"
   },
   "outputs": [
    {
     "name": "stdout",
     "output_type": "stream",
     "text": [
      "텍스트 중복 제외한 유일한 샘플 :  98360\n",
      "헤드라인 중복 제외한 유일한 샘플 :  98280\n"
     ]
    }
   ],
   "source": [
    "#text = train data set\n",
    "#headlines = test data set\n",
    "\n",
    "data = data[['text','headlines']]\n",
    "\n",
    "#check null sample\n",
    "print('텍스트 중복 제외한 유일한 샘플 : ', data['text'].nunique())\n",
    "print('헤드라인 중복 제외한 유일한 샘플 : ', data['headlines'].nunique())"
   ]
  },
  {
   "cell_type": "code",
   "execution_count": 5,
   "metadata": {
    "colab": {
     "base_uri": "https://localhost:8080/"
    },
    "id": "Djk4SIcFqIKm",
    "outputId": "367afee2-a0f6-42e6-e84e-f51fa2607707"
   },
   "outputs": [
    {
     "name": "stdout",
     "output_type": "stream",
     "text": [
      "the number of samples : 98360\n",
      "text         0\n",
      "headlines    0\n",
      "dtype: int64\n"
     ]
    }
   ],
   "source": [
    "#del duplicated sample\n",
    "\n",
    "data.drop_duplicates(subset=['text'],inplace = True)\n",
    "print('the number of samples :',(len(data)))\n",
    "\n",
    "print(data.isnull().sum())\n",
    "\n"
   ]
  },
  {
   "cell_type": "code",
   "execution_count": 6,
   "metadata": {
    "colab": {
     "base_uri": "https://localhost:8080/"
    },
    "id": "jYM67fVCqRov",
    "outputId": "5f3475b9-41d2-4b38-f866-45d123788d47"
   },
   "outputs": [
    {
     "name": "stdout",
     "output_type": "stream",
     "text": [
      "정규화 사전의 수:  120\n"
     ]
    }
   ],
   "source": [
    "#text normalization\n",
    "\n",
    "contractions = {\"ain't\": \"is not\", \"aren't\": \"are not\",\"can't\": \"cannot\", \"'cause\": \"because\", \"could've\": \"could have\", \"couldn't\": \"could not\",\n",
    "                          \"didn't\": \"did not\",  \"doesn't\": \"does not\", \"don't\": \"do not\", \"hadn't\": \"had not\", \"hasn't\": \"has not\", \"haven't\": \"have not\",\n",
    "                          \"he'd\": \"he would\",\"he'll\": \"he will\", \"he's\": \"he is\", \"how'd\": \"how did\", \"how'd'y\": \"how do you\", \"how'll\": \"how will\", \"how's\": \"how is\",\n",
    "                          \"I'd\": \"I would\", \"I'd've\": \"I would have\", \"I'll\": \"I will\", \"I'll've\": \"I will have\",\"I'm\": \"I am\", \"I've\": \"I have\", \"i'd\": \"i would\",\n",
    "                          \"i'd've\": \"i would have\", \"i'll\": \"i will\",  \"i'll've\": \"i will have\",\"i'm\": \"i am\", \"i've\": \"i have\", \"isn't\": \"is not\", \"it'd\": \"it would\",\n",
    "                          \"it'd've\": \"it would have\", \"it'll\": \"it will\", \"it'll've\": \"it will have\",\"it's\": \"it is\", \"let's\": \"let us\", \"ma'am\": \"madam\",\n",
    "                          \"mayn't\": \"may not\", \"might've\": \"might have\",\"mightn't\": \"might not\",\"mightn't've\": \"might not have\", \"must've\": \"must have\",\n",
    "                          \"mustn't\": \"must not\", \"mustn't've\": \"must not have\", \"needn't\": \"need not\", \"needn't've\": \"need not have\",\"o'clock\": \"of the clock\",\n",
    "                          \"oughtn't\": \"ought not\", \"oughtn't've\": \"ought not have\", \"shan't\": \"shall not\", \"sha'n't\": \"shall not\", \"shan't've\": \"shall not have\",\n",
    "                          \"she'd\": \"she would\", \"she'd've\": \"she would have\", \"she'll\": \"she will\", \"she'll've\": \"she will have\", \"she's\": \"she is\",\n",
    "                          \"should've\": \"should have\", \"shouldn't\": \"should not\", \"shouldn't've\": \"should not have\", \"so've\": \"so have\",\"so's\": \"so as\",\n",
    "                          \"this's\": \"this is\",\"that'd\": \"that would\", \"that'd've\": \"that would have\", \"that's\": \"that is\", \"there'd\": \"there would\",\n",
    "                          \"there'd've\": \"there would have\", \"there's\": \"there is\", \"here's\": \"here is\",\"they'd\": \"they would\", \"they'd've\": \"they would have\",\n",
    "                          \"they'll\": \"they will\", \"they'll've\": \"they will have\", \"they're\": \"they are\", \"they've\": \"they have\", \"to've\": \"to have\",\n",
    "                          \"wasn't\": \"was not\", \"we'd\": \"we would\", \"we'd've\": \"we would have\", \"we'll\": \"we will\", \"we'll've\": \"we will have\", \"we're\": \"we are\",\n",
    "                          \"we've\": \"we have\", \"weren't\": \"were not\", \"what'll\": \"what will\", \"what'll've\": \"what will have\", \"what're\": \"what are\",\n",
    "                          \"what's\": \"what is\", \"what've\": \"what have\", \"when's\": \"when is\", \"when've\": \"when have\", \"where'd\": \"where did\", \"where's\": \"where is\",\n",
    "                          \"where've\": \"where have\", \"who'll\": \"who will\", \"who'll've\": \"who will have\", \"who's\": \"who is\", \"who've\": \"who have\",\n",
    "                          \"why's\": \"why is\", \"why've\": \"why have\", \"will've\": \"will have\", \"won't\": \"will not\", \"won't've\": \"will not have\",\n",
    "                          \"would've\": \"would have\", \"wouldn't\": \"would not\", \"wouldn't've\": \"would not have\", \"y'all\": \"you all\",\n",
    "                          \"y'all'd\": \"you all would\",\"y'all'd've\": \"you all would have\",\"y'all're\": \"you all are\",\"y'all've\": \"you all have\",\n",
    "                          \"you'd\": \"you would\", \"you'd've\": \"you would have\", \"you'll\": \"you will\", \"you'll've\": \"you will have\",\n",
    "                          \"you're\": \"you are\", \"you've\": \"you have\"}\n",
    "print(\"정규화 사전의 수: \",len(contractions))\n"
   ]
  },
  {
   "cell_type": "code",
   "execution_count": 7,
   "metadata": {
    "colab": {
     "base_uri": "https://localhost:8080/"
    },
    "id": "tCyTz8F_qyp2",
    "outputId": "d375162a-4308-4db2-b42e-db47a3ab6748"
   },
   "outputs": [
    {
     "name": "stdout",
     "output_type": "stream",
     "text": [
      "불용어 개수 : 179\n",
      "['i', 'me', 'my', 'myself', 'we', 'our', 'ours', 'ourselves', 'you', \"you're\", \"you've\", \"you'll\", \"you'd\", 'your', 'yours', 'yourself', 'yourselves', 'he', 'him', 'his', 'himself', 'she', \"she's\", 'her', 'hers', 'herself', 'it', \"it's\", 'its', 'itself', 'they', 'them', 'their', 'theirs', 'themselves', 'what', 'which', 'who', 'whom', 'this', 'that', \"that'll\", 'these', 'those', 'am', 'is', 'are', 'was', 'were', 'be', 'been', 'being', 'have', 'has', 'had', 'having', 'do', 'does', 'did', 'doing', 'a', 'an', 'the', 'and', 'but', 'if', 'or', 'because', 'as', 'until', 'while', 'of', 'at', 'by', 'for', 'with', 'about', 'against', 'between', 'into', 'through', 'during', 'before', 'after', 'above', 'below', 'to', 'from', 'up', 'down', 'in', 'out', 'on', 'off', 'over', 'under', 'again', 'further', 'then', 'once', 'here', 'there', 'when', 'where', 'why', 'how', 'all', 'any', 'both', 'each', 'few', 'more', 'most', 'other', 'some', 'such', 'no', 'nor', 'not', 'only', 'own', 'same', 'so', 'than', 'too', 'very', 's', 't', 'can', 'will', 'just', 'don', \"don't\", 'should', \"should've\", 'now', 'd', 'll', 'm', 'o', 're', 've', 'y', 'ain', 'aren', \"aren't\", 'couldn', \"couldn't\", 'didn', \"didn't\", 'doesn', \"doesn't\", 'hadn', \"hadn't\", 'hasn', \"hasn't\", 'haven', \"haven't\", 'isn', \"isn't\", 'ma', 'mightn', \"mightn't\", 'mustn', \"mustn't\", 'needn', \"needn't\", 'shan', \"shan't\", 'shouldn', \"shouldn't\", 'wasn', \"wasn't\", 'weren', \"weren't\", 'won', \"won't\", 'wouldn', \"wouldn't\"]\n"
     ]
    }
   ],
   "source": [
    "#kill stopwords\n",
    "\n",
    "print('불용어 개수 :', len(stopwords.words('english') ))\n",
    "print(stopwords.words('english'))\n"
   ]
  },
  {
   "cell_type": "code",
   "execution_count": 8,
   "metadata": {
    "id": "CFhbROLaq3ut"
   },
   "outputs": [],
   "source": [
    "#data preprocess\n",
    "\n",
    "def preprocess_sentence(sentence, remove_stopwords=True):\n",
    "   sentence = sentence.lower() # 텍스트 소문자화\n",
    "   sentence = BeautifulSoup(sentence, \"lxml\").text # <br />, <a href = ...> 등의 html 태그 제거\n",
    "   sentence = re.sub(r'\\([^)]*\\)', '', sentence) # 괄호로 닫힌 문자열 (...) 제거 Ex) my husband (and myself!) for => my husband for\n",
    "   sentence = re.sub('\"','', sentence) # 쌍따옴표 \" 제거\n",
    "   sentence = ' '.join([contractions[t] if t in contractions else t for t in sentence.split(\" \")]) # 약어 정규화\n",
    "   sentence = re.sub(r\"'s\\b\",\"\",sentence) # 소유격 제거. Ex) roland's -> roland\n",
    "   sentence = re.sub(\"[^a-zA-Z]\", \" \", sentence) # 영어 외 문자(숫자, 특수문자 등) 공백으로 변환\n",
    "   sentence = re.sub('[m]{2,}', 'mm', sentence) # m이 3개 이상이면 2개로 변경. Ex) ummmmmmm yeah -> umm yeah\n",
    "  \n",
    "   # kill stop words (Text)\n",
    "   if remove_stopwords:\n",
    "       tokens = ' '.join(word for word in sentence.split() if not word in stopwords.words('english') if len(word) > 1)\n",
    "   # ??? 불용어 미제거 (Summary)\n",
    "   else:\n",
    "       tokens = ' '.join(word for word in sentence.split() if len(word) > 1)\n",
    "   return tokens\n"
   ]
  },
  {
   "cell_type": "code",
   "execution_count": 9,
   "metadata": {
    "colab": {
     "base_uri": "https://localhost:8080/"
    },
    "id": "dxM5Dx5zrNJY",
    "outputId": "647d98d6-52a6-457f-f6cd-7f166d3362aa"
   },
   "outputs": [
    {
     "name": "stdout",
     "output_type": "stream",
     "text": [
      "Requirement already satisfied: lxml in /home/ssac9/anaconda3/envs/aiffel/lib/python3.7/site-packages (4.6.2)\r\n"
     ]
    }
   ],
   "source": [
    "#preparing error\n",
    "\n",
    "! pip install lxml\n"
   ]
  },
  {
   "cell_type": "code",
   "execution_count": 10,
   "metadata": {
    "colab": {
     "base_uri": "https://localhost:8080/"
    },
    "id": "lHBWLQh5rPNl",
    "outputId": "145f5904-061c-413a-f7c9-e7eb8aeb6277"
   },
   "outputs": [
    {
     "name": "stdout",
     "output_type": "stream",
     "text": [
      "everything bought great infact ordered twice third ordered wasfor mother father\n",
      "great way to start the day\n"
     ]
    }
   ],
   "source": [
    "#checking before/after\n",
    "\n",
    "temp_text = 'Everything I bought was great, infact I ordered twice and the third ordered was<br />for my mother and father.'\n",
    "temp_summary = 'Great way to start (or finish) the day!!!'\n",
    "print(preprocess_sentence(temp_text))\n",
    "print(preprocess_sentence(temp_summary, False))  # 불용어를 제거하지 않습니다.\n"
   ]
  },
  {
   "cell_type": "code",
   "execution_count": 11,
   "metadata": {
    "id": "R2wuvLRErmzJ"
   },
   "outputs": [
    {
     "data": {
      "text/plain": [
       "['saurav kant alumnus upgrad iiit pg program machine learning artificial intelligence sr systems engineer infosys almost years work experience program upgrad degree career support helped transition data scientist tech mahindra salary hike upgrad online power learning powered lakh careers',\n",
       " 'kunal shah credit card bill payment platform cred gave users chance win free food swiggy one year pranav kaushik delhi techie bagged reward spending cred coins users get one cred coin per rupee bill paid used avail rewards brands like ixigo bookmyshow ubereats cult fit',\n",
       " 'new zealand defeated india wickets fourth odi hamilton thursday win first match five match odi series india lost international match rohit sharma captaincy consecutive victories dating back march match witnessed india getting seventh lowest total odi cricket history',\n",
       " 'aegon life iterm insurance plan customers enjoy tax benefits premiums paid save taxes plan provides life cover age years also customers options insure critical illnesses disability accidental death benefit rider life cover age years',\n",
       " 'speaking sexual harassment allegations rajkumar hirani sonam kapoor said known hirani many years true metoo movement get derailed metoo movement always believe woman case need reserve judgment added hirani accused assistant worked sanju']"
      ]
     },
     "execution_count": 11,
     "metadata": {},
     "output_type": "execute_result"
    }
   ],
   "source": [
    "#checking the result which I preprocessed\n",
    "\n",
    "clean_text = []\n",
    "# 전체 Text 데이터에 대한 전처리 : 10분 이상 시간이 걸릴 수 있습니다.\n",
    "for s in data['text']:\n",
    "   clean_text.append(preprocess_sentence(s))   #전처리 후 출력\n",
    "clean_text[:5]\n"
   ]
  },
  {
   "cell_type": "code",
   "execution_count": 12,
   "metadata": {
    "id": "s3WCrl6prxmR"
   },
   "outputs": [
    {
     "data": {
      "text/plain": [
       "['upgrad learner switches to career in ml al with salary hike',\n",
       " 'delhi techie wins free food from swiggy for one year on cred',\n",
       " 'new zealand end rohit sharma led india match winning streak',\n",
       " 'aegon life iterm insurance plan helps customers save tax',\n",
       " 'have known hirani for yrs what if metoo claims are not true sonam']"
      ]
     },
     "execution_count": 12,
     "metadata": {},
     "output_type": "execute_result"
    }
   ],
   "source": [
    "clean_headlines = []  #전체 Headlines 데이터에 대한 전처리 : 5분 이상 시간이 걸릴 수 있습니다.\n",
    "for s in data['headlines']:\n",
    "   clean_headlines.append(preprocess_sentence(s, False))\n",
    "clean_headlines[:5]\n"
   ]
  },
  {
   "cell_type": "code",
   "execution_count": 13,
   "metadata": {
    "id": "fF0gUgNIwFkb"
   },
   "outputs": [
    {
     "data": {
      "text/plain": [
       "text         0\n",
       "headlines    0\n",
       "dtype: int64"
      ]
     },
     "execution_count": 13,
     "metadata": {},
     "output_type": "execute_result"
    }
   ],
   "source": [
    "#rechecking the empty sample again\n",
    "\n",
    "data['text'] = clean_text\n",
    "data['headlines'] = clean_headlines # 빈 값을 Null 값으로 변환\n",
    "data.replace('', np.nan, inplace=True)\n",
    "\n",
    "data.isnull().sum()\n"
   ]
  },
  {
   "cell_type": "code",
   "execution_count": 14,
   "metadata": {
    "id": "56IpG_JlwZ3C"
   },
   "outputs": [
    {
     "name": "stdout",
     "output_type": "stream",
     "text": [
      "텍스트의 최소 길이 : 1\n",
      "텍스트의 최대 길이 : 60\n",
      "텍스트의 평균 길이 : 35.09968483123221\n",
      "요약의 최소 길이 : 1\n",
      "요약의 최대 길이 : 16\n",
      "요약의 평균 길이 : 9.299532330215534\n"
     ]
    },
    {
     "data": {
      "image/png": "[encoded data removed]",
      "text/plain": [
       "<Figure size 432x288 with 2 Axes>"
      ]
     },
     "metadata": {
      "needs_background": "light"
     },
     "output_type": "display_data"
    },
    {
     "data": {
      "image/png": "[encoded data removed]",
      "text/plain": [
       "<Figure size 432x288 with 1 Axes>"
      ]
     },
     "metadata": {
      "needs_background": "light"
     },
     "output_type": "display_data"
    },
    {
     "data": {
      "image/png": "[encoded data removed]",
      "text/plain": [
       "<Figure size 432x288 with 1 Axes>"
      ]
     },
     "metadata": {
      "needs_background": "light"
     },
     "output_type": "display_data"
    }
   ],
   "source": [
    "#set the maximum sample sentence\n",
    "\n",
    "# 길이 분포 출력\n",
    "import matplotlib.pyplot as plt\n",
    "text_len = [len(s.split()) for s in data['text']]\n",
    "headlines_len = [len(s.split()) for s in data['headlines']]\n",
    "\n",
    "print('텍스트의 최소 길이 : {}'.format(np.min(text_len)))\n",
    "print('텍스트의 최대 길이 : {}'.format(np.max(text_len)))\n",
    "print('텍스트의 평균 길이 : {}'.format(np.mean(text_len)))\n",
    "print('요약의 최소 길이 : {}'.format(np.min(headlines_len)))\n",
    "print('요약의 최대 길이 : {}'.format(np.max(headlines_len)))\n",
    "print('요약의 평균 길이 : {}'.format(np.mean(headlines_len)))\n",
    "\n",
    "plt.subplot(1,2,1)\n",
    "plt.boxplot(headlines_len)\n",
    "plt.title('headlines')\n",
    "plt.subplot(1,2,2)\n",
    "plt.boxplot(text_len)\n",
    "plt.title('text')\n",
    "plt.tight_layout()\n",
    "plt.show()\n",
    "\n",
    "plt.title('headlines')\n",
    "plt.hist(headlines_len, bins = 40)\n",
    "plt.xlabel('length of samples')\n",
    "plt.ylabel('number of samples')\n",
    "plt.show()\n",
    "plt.title('text')\n",
    "plt.hist(text_len, bins = 40)\n",
    "plt.xlabel('length of samples')\n",
    "plt.ylabel('number of samples')\n",
    "plt.show()"
   ]
  },
  {
   "cell_type": "code",
   "execution_count": 15,
   "metadata": {
    "id": "rd2ICGsH8AGz"
   },
   "outputs": [],
   "source": [
    "text_max_len = 50\n",
    "headlines_max_len = 10\n"
   ]
  },
  {
   "cell_type": "code",
   "execution_count": 16,
   "metadata": {
    "id": "MsNC4pUT8Wbe"
   },
   "outputs": [],
   "source": [
    "def below_threshold_len(max_len, nested_list):\n",
    " cnt = 0\n",
    " for s in nested_list:\n",
    "   if(len(s.split()) <= max_len):\n",
    "       cnt = cnt + 1\n",
    " print('전체 샘플 중 길이가 %s 이하인 샘플의 비율: %s'%(max_len, (cnt / len(nested_list))))\n"
   ]
  },
  {
   "cell_type": "code",
   "execution_count": 17,
   "metadata": {
    "id": "LJ7eBRBI8Ybe"
   },
   "outputs": [
    {
     "name": "stdout",
     "output_type": "stream",
     "text": [
      "전체 샘플 중 길이가 50 이하인 샘플의 비율: 0.9998576657177715\n",
      "전체 샘플 중 길이가 10 이하인 샘플의 비율: 0.8162972753151687\n"
     ]
    }
   ],
   "source": [
    "below_threshold_len(text_max_len, data['text'])\n",
    "below_threshold_len(headlines_max_len,  data['headlines'])\n"
   ]
  },
  {
   "cell_type": "code",
   "execution_count": 18,
   "metadata": {
    "id": "X8NSOn4k8ohk"
   },
   "outputs": [
    {
     "data": {
      "text/html": [
       "<div>\n",
       "<style scoped>\n",
       "    .dataframe tbody tr th:only-of-type {\n",
       "        vertical-align: middle;\n",
       "    }\n",
       "\n",
       "    .dataframe tbody tr th {\n",
       "        vertical-align: top;\n",
       "    }\n",
       "\n",
       "    .dataframe thead th {\n",
       "        text-align: right;\n",
       "    }\n",
       "</style>\n",
       "<table border=\"1\" class=\"dataframe\">\n",
       "  <thead>\n",
       "    <tr style=\"text-align: right;\">\n",
       "      <th></th>\n",
       "      <th>text</th>\n",
       "      <th>headlines</th>\n",
       "      <th>decoder_input</th>\n",
       "      <th>decoder_target</th>\n",
       "    </tr>\n",
       "  </thead>\n",
       "  <tbody>\n",
       "    <tr>\n",
       "      <th>0</th>\n",
       "      <td>saurav kant alumnus upgrad iiit pg program mac...</td>\n",
       "      <td>upgrad learner switches to career in ml al wit...</td>\n",
       "      <td>sostoken upgrad learner switches to career in ...</td>\n",
       "      <td>upgrad learner switches to career in ml al wit...</td>\n",
       "    </tr>\n",
       "    <tr>\n",
       "      <th>1</th>\n",
       "      <td>kunal shah credit card bill payment platform c...</td>\n",
       "      <td>delhi techie wins free food from swiggy for on...</td>\n",
       "      <td>sostoken delhi techie wins free food from swig...</td>\n",
       "      <td>delhi techie wins free food from swiggy for on...</td>\n",
       "    </tr>\n",
       "    <tr>\n",
       "      <th>2</th>\n",
       "      <td>new zealand defeated india wickets fourth odi ...</td>\n",
       "      <td>new zealand end rohit sharma led india match w...</td>\n",
       "      <td>sostoken new zealand end rohit sharma led indi...</td>\n",
       "      <td>new zealand end rohit sharma led india match w...</td>\n",
       "    </tr>\n",
       "    <tr>\n",
       "      <th>3</th>\n",
       "      <td>aegon life iterm insurance plan customers enjo...</td>\n",
       "      <td>aegon life iterm insurance plan helps customer...</td>\n",
       "      <td>sostoken aegon life iterm insurance plan helps...</td>\n",
       "      <td>aegon life iterm insurance plan helps customer...</td>\n",
       "    </tr>\n",
       "    <tr>\n",
       "      <th>4</th>\n",
       "      <td>speaking sexual harassment allegations rajkuma...</td>\n",
       "      <td>have known hirani for yrs what if metoo claims...</td>\n",
       "      <td>sostoken have known hirani for yrs what if met...</td>\n",
       "      <td>have known hirani for yrs what if metoo claims...</td>\n",
       "    </tr>\n",
       "  </tbody>\n",
       "</table>\n",
       "</div>"
      ],
      "text/plain": [
       "                                                text  \\\n",
       "0  saurav kant alumnus upgrad iiit pg program mac...   \n",
       "1  kunal shah credit card bill payment platform c...   \n",
       "2  new zealand defeated india wickets fourth odi ...   \n",
       "3  aegon life iterm insurance plan customers enjo...   \n",
       "4  speaking sexual harassment allegations rajkuma...   \n",
       "\n",
       "                                           headlines  \\\n",
       "0  upgrad learner switches to career in ml al wit...   \n",
       "1  delhi techie wins free food from swiggy for on...   \n",
       "2  new zealand end rohit sharma led india match w...   \n",
       "3  aegon life iterm insurance plan helps customer...   \n",
       "4  have known hirani for yrs what if metoo claims...   \n",
       "\n",
       "                                       decoder_input  \\\n",
       "0  sostoken upgrad learner switches to career in ...   \n",
       "1  sostoken delhi techie wins free food from swig...   \n",
       "2  sostoken new zealand end rohit sharma led indi...   \n",
       "3  sostoken aegon life iterm insurance plan helps...   \n",
       "4  sostoken have known hirani for yrs what if met...   \n",
       "\n",
       "                                      decoder_target  \n",
       "0  upgrad learner switches to career in ml al wit...  \n",
       "1  delhi techie wins free food from swiggy for on...  \n",
       "2  new zealand end rohit sharma led india match w...  \n",
       "3  aegon life iterm insurance plan helps customer...  \n",
       "4  have known hirani for yrs what if metoo claims...  "
      ]
     },
     "execution_count": 18,
     "metadata": {},
     "output_type": "execute_result"
    }
   ],
   "source": [
    "#add starting and ending token \n",
    "#요약 데이터에는 시작 토큰과 종료 토큰을 추가한다.\n",
    "data['decoder_input'] = data['headlines'].apply(lambda x : 'sostoken '+ x)\n",
    "data['decoder_target'] = data['headlines'].apply(lambda x : x + ' eostoken')\n",
    "data.head()\n"
   ]
  },
  {
   "cell_type": "code",
   "execution_count": 19,
   "metadata": {
    "id": "4mMz8ONi84vD"
   },
   "outputs": [],
   "source": [
    "encoder_input = np.array(data['text']) # 인코더의 입력\n",
    "decoder_input = np.array(data['decoder_input']) # 디코더의 입력\n",
    "decoder_target = np.array(data['decoder_target']) # 디코더의 레이블\n"
   ]
  },
  {
   "cell_type": "code",
   "execution_count": 20,
   "metadata": {
    "id": "rYyrZgPY88fK"
   },
   "outputs": [
    {
     "name": "stdout",
     "output_type": "stream",
     "text": [
      "[60253 69399 31570 ... 83636  7548 92278]\n"
     ]
    }
   ],
   "source": [
    "indices = np.arange(encoder_input.shape[0])\n",
    "np.random.shuffle(indices)\n",
    "print(indices)\n"
   ]
  },
  {
   "cell_type": "code",
   "execution_count": 21,
   "metadata": {
    "id": "q63AmeGZ8_Vo"
   },
   "outputs": [],
   "source": [
    "encoder_input = encoder_input[indices]\n",
    "decoder_input = decoder_input[indices]\n",
    "decoder_target = decoder_target[indices]\n"
   ]
  },
  {
   "cell_type": "code",
   "execution_count": 22,
   "metadata": {
    "id": "ZsvFrPif9BGg"
   },
   "outputs": [
    {
     "name": "stdout",
     "output_type": "stream",
     "text": [
      "테스트 데이터의 수 : 19672\n"
     ]
    }
   ],
   "source": [
    "n_of_val = int(len(encoder_input)*0.2)\n",
    "print('테스트 데이터의 수 :',n_of_val)\n"
   ]
  },
  {
   "cell_type": "code",
   "execution_count": 23,
   "metadata": {
    "id": "4wdfzWUY9D5b"
   },
   "outputs": [
    {
     "name": "stdout",
     "output_type": "stream",
     "text": [
      "훈련 데이터의 개수 : 78688\n",
      "훈련 레이블의 개수 : 78688\n",
      "테스트 데이터의 개수 : 19672\n",
      "테스트 레이블의 개수 : 19672\n"
     ]
    }
   ],
   "source": [
    "encoder_input_train = encoder_input[:-n_of_val]\n",
    "decoder_input_train = decoder_input[:-n_of_val]\n",
    "decoder_target_train = decoder_target[:-n_of_val]\n",
    "encoder_input_test = encoder_input[-n_of_val:]\n",
    "decoder_input_test = decoder_input[-n_of_val:]\n",
    "decoder_target_test = decoder_target[-n_of_val:]\n",
    "\n",
    "print('훈련 데이터의 개수 :', len(encoder_input_train))\n",
    "print('훈련 레이블의 개수 :',len(decoder_input_train))\n",
    "print('테스트 데이터의 개수 :',len(encoder_input_test))\n",
    "print('테스트 레이블의 개수 :',len(decoder_input_test))\n"
   ]
  },
  {
   "cell_type": "code",
   "execution_count": 24,
   "metadata": {
    "id": "OOuDJA9t9I13"
   },
   "outputs": [],
   "source": [
    "#tokenizer\n",
    "src_tokenizer = Tokenizer() # 토크나이저 정의\n",
    "src_tokenizer.fit_on_texts(encoder_input_train) # 입력된 데이터로부터 단어 집합 생성"
   ]
  },
  {
   "cell_type": "code",
   "execution_count": 26,
   "metadata": {
    "id": "mJ1CibeE9Rwz"
   },
   "outputs": [
    {
     "name": "stdout",
     "output_type": "stream",
     "text": [
      "단어 집합(vocabulary)의 크기 : 69697\n",
      "등장 빈도가 6번 이하인 희귀 단어의 수: 47557\n",
      "단어 집합에서 희귀 단어를 제외시킬 경우의 단어 집합의 크기 22140\n",
      "단어 집합에서 희귀 단어의 비율: 68.23392685481441\n",
      "전체 등장 빈도에서 희귀 단어 등장 빈도 비율: 3.4991292005662915\n"
     ]
    }
   ],
   "source": [
    "#7번 미만 빈도수의 단어들은 제외하기\n",
    "threshold = 7\n",
    "total_cnt = len(src_tokenizer.word_index) # 단어의 수\n",
    "rare_cnt = 0 # 등장 빈도수가 threshold보다 작은 단어의 개수를 카운트\n",
    "total_freq = 0 # 훈련 데이터의 전체 단어 빈도수 총 합\n",
    "rare_freq = 0 # 등장 빈도수가 threshold보다 작은 단어의 등장 빈도수의 총 합\n",
    "\n",
    "# 단어와 빈도수의 쌍(pair)을 key와 value로 받는다.\n",
    "for key, value in src_tokenizer.word_counts.items():\n",
    "   total_freq = total_freq + value\n",
    "   # 단어의 등장 빈도수가 threshold보다 작으면\n",
    "   if(value < threshold):\n",
    "       rare_cnt = rare_cnt + 1\n",
    "       rare_freq = rare_freq + value\n",
    "\n",
    "print('단어 집합(vocabulary)의 크기 :',total_cnt)\n",
    "print('등장 빈도가 %s번 이하인 희귀 단어의 수: %s'%(threshold - 1, rare_cnt))\n",
    "print('단어 집합에서 희귀 단어를 제외시킬 경우의 단어 집합의 크기 %s'%(total_cnt - rare_cnt))\n",
    "print(\"단어 집합에서 희귀 단어의 비율:\", (rare_cnt / total_cnt)*100)\n",
    "print(\"전체 등장 빈도에서 희귀 단어 등장 빈도 비율:\", (rare_freq / total_freq)*100)\n"
   ]
  },
  {
   "cell_type": "code",
   "execution_count": 27,
   "metadata": {
    "id": "kIvsA0ST9c8A"
   },
   "outputs": [],
   "source": [
    "src_vocab = 8000\n",
    "src_tokenizer = Tokenizer(num_words = src_vocab) # 단어 집합의 크기를 8,000으로 제한\n",
    "src_tokenizer.fit_on_texts(encoder_input_train) # 단어 집합 재생성."
   ]
  },
  {
   "cell_type": "code",
   "execution_count": 28,
   "metadata": {
    "id": "jFCdeZ839gjm"
   },
   "outputs": [
    {
     "name": "stdout",
     "output_type": "stream",
     "text": [
      "[[7, 1342, 175, 2349, 150, 14, 174, 1162, 19, 1615, 44, 90, 15, 3927, 68, 4411, 83, 1690, 1056, 74, 33, 1, 150, 14, 1869, 2318, 128, 6385, 660], [2414, 4215, 75, 154, 109, 372, 570, 466, 172, 487, 1040, 17, 147, 466, 806, 7367, 147, 92, 942, 35, 290, 158, 3086, 187, 796, 5101, 149, 187, 92, 2244, 884], [523, 135, 4120, 6991, 23, 4062, 1045, 5, 5489, 1100, 656, 4801, 205, 6812, 146, 620, 5998, 6813, 5489, 7264, 3351, 1684, 1045, 4801, 205, 6812, 1041, 656, 2311, 5824, 881, 4216, 3611]]\n"
     ]
    }
   ],
   "source": [
    "# 텍스트 시퀀스를 정수 시퀀스로 변환\n",
    "encoder_input_train = src_tokenizer.texts_to_sequences(encoder_input_train)\n",
    "encoder_input_test = src_tokenizer.texts_to_sequences(encoder_input_test)\n",
    "#잘 진행되었는지 샘플 출력\n",
    "print(encoder_input_train[:3])\n"
   ]
  },
  {
   "cell_type": "code",
   "execution_count": 29,
   "metadata": {
    "id": "nAi1pYbS-E8N"
   },
   "outputs": [],
   "source": [
    "tar_tokenizer = Tokenizer()\n",
    "tar_tokenizer.fit_on_texts(decoder_input_train)\n"
   ]
  },
  {
   "cell_type": "code",
   "execution_count": 30,
   "metadata": {
    "id": "JthdmYXz-Jvc"
   },
   "outputs": [
    {
     "name": "stdout",
     "output_type": "stream",
     "text": [
      "단어 집합(vocabulary)의 크기 : 30061\n",
      "등장 빈도가 5번 이하인 희귀 단어의 수: 19648\n",
      "단어 집합에서 희귀 단어를 제외시킬 경우의 단어 집합의 크기 10413\n",
      "단어 집합에서 희귀 단어의 비율: 65.3604337846379\n",
      "전체 등장 빈도에서 희귀 단어 등장 빈도 비율: 4.645632463770977\n"
     ]
    }
   ],
   "source": [
    "threshold = 6\n",
    "total_cnt = len(tar_tokenizer.word_index) # 단어의 수\n",
    "rare_cnt = 0 # 등장 빈도수가 threshold보다 작은 단어의 개수를 카운트\n",
    "total_freq = 0 # 훈련 데이터의 전체 단어 빈도수 총 합\n",
    "rare_freq = 0 # 등장 빈도수가 threshold보다 작은 단어의 등장 빈도수의 총 합​\n",
    "# 단어와 빈도수의 쌍(pair)을 key와 value로 받는다.\n",
    "for key, value in tar_tokenizer.word_counts.items():\n",
    "   total_freq = total_freq + value\n",
    "\n",
    "# 단어의 등장 빈도수가 threshold보다 작으면\n",
    "   if(value < threshold):\n",
    "       rare_cnt = rare_cnt + 1\n",
    "       rare_freq = rare_freq + value\n",
    "\n",
    "print('단어 집합(vocabulary)의 크기 :',total_cnt)\n",
    "print('등장 빈도가 %s번 이하인 희귀 단어의 수: %s'%(threshold - 1, rare_cnt))\n",
    "print('단어 집합에서 희귀 단어를 제외시킬 경우의 단어 집합의 크기 %s'%(total_cnt - rare_cnt))\n",
    "print(\"단어 집합에서 희귀 단어의 비율:\", (rare_cnt / total_cnt)*100)\n",
    "print(\"전체 등장 빈도에서 희귀 단어 등장 빈도 비율:\", (rare_freq / total_freq)*100)\n"
   ]
  },
  {
   "cell_type": "code",
   "execution_count": 31,
   "metadata": {
    "id": "opXzc0nC-WYo"
   },
   "outputs": [
    {
     "name": "stdout",
     "output_type": "stream",
     "text": [
      "input\n",
      "input  [[1, 9494, 2001, 76, 551, 51, 7, 803, 52], [1, 541, 195, 1561, 2578, 707, 9495, 5, 88, 392, 1084], [1, 109, 4266, 2799, 1443, 1522, 546, 2693], [1, 4999, 362, 1165, 15, 8210, 3184, 36], [1, 159, 457, 9, 3, 1649, 7261, 54, 17, 370]]\n",
      "target\n",
      "decoder  [[9494, 2001, 76, 551, 51, 7, 803, 52, 2], [541, 195, 1561, 2578, 707, 9495, 5, 88, 392, 1084, 2], [109, 4266, 2799, 1443, 1522, 546, 2693, 2], [4999, 362, 1165, 15, 8210, 3184, 36, 2], [159, 457, 9, 3, 1649, 7261, 54, 17, 370, 2]]\n"
     ]
    }
   ],
   "source": [
    "tar_vocab = 10000\n",
    "tar_tokenizer = Tokenizer(num_words = tar_vocab)\n",
    "tar_tokenizer.fit_on_texts(decoder_input_train)\n",
    "tar_tokenizer.fit_on_texts(decoder_target_train)\n",
    "\n",
    "# 텍스트 시퀀스를 정수 시퀀스로 변환\n",
    "decoder_input_train = tar_tokenizer.texts_to_sequences(decoder_input_train)\n",
    "decoder_target_train = tar_tokenizer.texts_to_sequences(decoder_target_train)\n",
    "decoder_input_test = tar_tokenizer.texts_to_sequences(decoder_input_test)\n",
    "decoder_target_test = tar_tokenizer.texts_to_sequences(decoder_target_test)\n",
    "#잘 변환되었는지 확인\n",
    "print('input')\n",
    "print('input ',decoder_input_train[:5])\n",
    "print('target')\n",
    "print('decoder ',decoder_target_train[:5])\n"
   ]
  },
  {
   "cell_type": "code",
   "execution_count": 32,
   "metadata": {
    "id": "F2FzYJHG-gBB"
   },
   "outputs": [
    {
     "name": "stdout",
     "output_type": "stream",
     "text": [
      "삭제할 훈련 데이터의 개수 : 0\n",
      "삭제할 테스트 데이터의 개수 : 0\n"
     ]
    },
    {
     "name": "stderr",
     "output_type": "stream",
     "text": [
      "/home/ssac9/anaconda3/envs/aiffel/lib/python3.7/site-packages/numpy/core/_asarray.py:83: VisibleDeprecationWarning: Creating an ndarray from ragged nested sequences (which is a list-or-tuple of lists-or-tuples-or ndarrays with different lengths or shapes) is deprecated. If you meant to do this, you must specify 'dtype=object' when creating the ndarray\n",
      "  return array(a, dtype, copy=False, order=order)\n"
     ]
    },
    {
     "name": "stdout",
     "output_type": "stream",
     "text": [
      "훈련 데이터의 개수 : 78688\n",
      "훈련 레이블의 개수 : 78688\n",
      "테스트 데이터의 개수 : 19672\n",
      "테스트 레이블의 개수 : 19672\n"
     ]
    }
   ],
   "source": [
    "drop_train = [index for index, sentence in enumerate(decoder_input_train) if len(sentence) == 1]\n",
    "drop_test = [index for index, sentence in enumerate(decoder_input_test) if len(sentence) == 1]\n",
    "\n",
    "print('삭제할 훈련 데이터의 개수 :',len(drop_train))\n",
    "print('삭제할 테스트 데이터의 개수 :',len(drop_test))\n",
    "\n",
    "encoder_input_train = np.delete(encoder_input_train, drop_train, axis=0)\n",
    "decoder_input_train = np.delete(decoder_input_train, drop_train, axis=0)\n",
    "decoder_target_train = np.delete(decoder_target_train, drop_train, axis=0)\n",
    "\n",
    "encoder_input_test = np.delete(encoder_input_test, drop_test, axis=0)\n",
    "decoder_input_test = np.delete(decoder_input_test, drop_test, axis=0)\n",
    "decoder_target_test = np.delete(decoder_target_test, drop_test, axis=0)\n",
    "print('훈련 데이터의 개수 :', len(encoder_input_train))\n",
    "print('훈련 레이블의 개수 :',len(decoder_input_train))\n",
    "print('테스트 데이터의 개수 :',len(encoder_input_test))\n",
    "print('테스트 레이블의 개수 :',len(decoder_input_test))"
   ]
  },
  {
   "cell_type": "code",
   "execution_count": 33,
   "metadata": {
    "id": "drNym7Rv--s0"
   },
   "outputs": [],
   "source": [
    "#패딩 padding\n",
    "encoder_input_train = pad_sequences(encoder_input_train, maxlen = text_max_len, padding='post')\n",
    "encoder_input_test = pad_sequences(encoder_input_test, maxlen = text_max_len, padding='post')\n",
    "decoder_input_train = pad_sequences(decoder_input_train, maxlen = headlines_max_len, padding='post')\n",
    "decoder_target_train = pad_sequences(decoder_target_train, maxlen = headlines_max_len, padding='post')\n",
    "decoder_input_test = pad_sequences(decoder_input_test, maxlen = headlines_max_len, padding='post')\n",
    "decoder_target_test = pad_sequences(decoder_target_test, maxlen = headlines_max_len, padding='post')\n"
   ]
  },
  {
   "cell_type": "code",
   "execution_count": 34,
   "metadata": {
    "id": "VJkiws4f_JnW"
   },
   "outputs": [
    {
     "name": "stdout",
     "output_type": "stream",
     "text": [
      "WARNING:tensorflow:Layer lstm will not use cuDNN kernel since it doesn't meet the cuDNN kernel criteria. It will use generic GPU kernel as fallback when running on GPU\n",
      "WARNING:tensorflow:Layer lstm_1 will not use cuDNN kernel since it doesn't meet the cuDNN kernel criteria. It will use generic GPU kernel as fallback when running on GPU\n",
      "WARNING:tensorflow:Layer lstm_2 will not use cuDNN kernel since it doesn't meet the cuDNN kernel criteria. It will use generic GPU kernel as fallback when running on GPU\n"
     ]
    }
   ],
   "source": [
    "#designing the model\n",
    "\n",
    "from tensorflow.keras.layers import Input, LSTM, Embedding, Dense, Concatenate\n",
    "from tensorflow.keras.models import Model\n",
    "from tensorflow.keras.callbacks import EarlyStopping, ModelCheckpoint\n",
    "# 인코더 설계 시작\n",
    "embedding_dim = 128\n",
    "hidden_size = 256\n",
    "# 인코더\n",
    "encoder_inputs = Input(shape=(text_max_len,))\n",
    "# 인코더의 임베딩 층\n",
    "enc_emb = Embedding(src_vocab, embedding_dim)(encoder_inputs)\n",
    "# 인코더의 LSTM 1\n",
    "encoder_lstm1 = LSTM(hidden_size, return_sequences=True, return_state=True ,dropout = 0.4, recurrent_dropout = 0.4)\n",
    "encoder_output1, state_h1, state_c1 = encoder_lstm1(enc_emb)\n",
    "# 인코더의 LSTM 2\n",
    "encoder_lstm2 = LSTM(hidden_size, return_sequences=True, return_state=True, dropout=0.4, recurrent_dropout=0.4)\n",
    "encoder_output2, state_h2, state_c2 = encoder_lstm2(encoder_output1)\n",
    "# 인코더의 LSTM 3\n",
    "encoder_lstm3 = LSTM(hidden_size, return_state=True, return_sequences=True, dropout=0.4, recurrent_dropout=0.4)\n",
    "encoder_outputs, state_h, state_c= encoder_lstm3(encoder_output2)"
   ]
  },
  {
   "cell_type": "code",
   "execution_count": 35,
   "metadata": {
    "id": "3_8pZEes_XD_"
   },
   "outputs": [
    {
     "name": "stdout",
     "output_type": "stream",
     "text": [
      "WARNING:tensorflow:Layer lstm_3 will not use cuDNN kernel since it doesn't meet the cuDNN kernel criteria. It will use generic GPU kernel as fallback when running on GPU\n"
     ]
    }
   ],
   "source": [
    "# 디코더 설계\n",
    "decoder_inputs = Input(shape=(None,))\n",
    "# 디코더의 임베딩 층\n",
    "dec_emb_layer = Embedding(tar_vocab, embedding_dim)\n",
    "dec_emb = dec_emb_layer(decoder_inputs)\n",
    "# 디코더의 LSTM\n",
    "decoder_lstm = LSTM(hidden_size, return_sequences = True, return_state = True, dropout = 0.4, recurrent_dropout=0.2)\n",
    "decoder_outputs, _, _ = decoder_lstm(dec_emb, initial_state = [state_h, state_c])\n"
   ]
  },
  {
   "cell_type": "code",
   "execution_count": 36,
   "metadata": {
    "id": "DBHZ_KDp_dNx"
   },
   "outputs": [],
   "source": [
    "# 디코더의 출력층\n",
    "decoder_softmax_layer = Dense(tar_vocab, activation = 'softmax')\n",
    "decoder_softmax_outputs = decoder_softmax_layer(decoder_outputs)"
   ]
  },
  {
   "cell_type": "code",
   "execution_count": 37,
   "metadata": {
    "id": "bOGlzLRH_eXP"
   },
   "outputs": [
    {
     "name": "stdout",
     "output_type": "stream",
     "text": [
      "Model: \"model\"\n",
      "__________________________________________________________________________________________________\n",
      "Layer (type)                    Output Shape         Param #     Connected to                     \n",
      "==================================================================================================\n",
      "input_1 (InputLayer)            [(None, 50)]         0                                            \n",
      "__________________________________________________________________________________________________\n",
      "embedding (Embedding)           (None, 50, 128)      1024000     input_1[0][0]                    \n",
      "__________________________________________________________________________________________________\n",
      "lstm (LSTM)                     [(None, 50, 256), (N 394240      embedding[0][0]                  \n",
      "__________________________________________________________________________________________________\n",
      "input_2 (InputLayer)            [(None, None)]       0                                            \n",
      "__________________________________________________________________________________________________\n",
      "lstm_1 (LSTM)                   [(None, 50, 256), (N 525312      lstm[0][0]                       \n",
      "__________________________________________________________________________________________________\n",
      "embedding_1 (Embedding)         (None, None, 128)    1280000     input_2[0][0]                    \n",
      "__________________________________________________________________________________________________\n",
      "lstm_2 (LSTM)                   [(None, 50, 256), (N 525312      lstm_1[0][0]                     \n",
      "__________________________________________________________________________________________________\n",
      "lstm_3 (LSTM)                   [(None, None, 256),  394240      embedding_1[0][0]                \n",
      "                                                                 lstm_2[0][1]                     \n",
      "                                                                 lstm_2[0][2]                     \n",
      "__________________________________________________________________________________________________\n",
      "dense (Dense)                   (None, None, 10000)  2570000     lstm_3[0][0]                     \n",
      "==================================================================================================\n",
      "Total params: 6,713,104\n",
      "Trainable params: 6,713,104\n",
      "Non-trainable params: 0\n",
      "__________________________________________________________________________________________________\n"
     ]
    }
   ],
   "source": [
    "# 모델 정의\n",
    "model = Model([encoder_inputs, decoder_inputs], decoder_softmax_outputs)\n",
    "model.summary()\n"
   ]
  },
  {
   "cell_type": "code",
   "execution_count": 38,
   "metadata": {
    "id": "1IvxwJQ9_mUH"
   },
   "outputs": [],
   "source": [
    "#어텐션 메커니즘\n",
    "\n",
    "urllib.request.urlretrieve(\"https://raw.githubusercontent.com/thushv89/attention_keras/master/src/layers/attention.py\", filename=\"attention.py\")\n",
    "from attention import AttentionLayer\n"
   ]
  },
  {
   "cell_type": "code",
   "execution_count": 39,
   "metadata": {
    "id": "UzvgNzG5_tfi"
   },
   "outputs": [
    {
     "name": "stdout",
     "output_type": "stream",
     "text": [
      "Model: \"model_1\"\n",
      "__________________________________________________________________________________________________\n",
      "Layer (type)                    Output Shape         Param #     Connected to                     \n",
      "==================================================================================================\n",
      "input_1 (InputLayer)            [(None, 50)]         0                                            \n",
      "__________________________________________________________________________________________________\n",
      "embedding (Embedding)           (None, 50, 128)      1024000     input_1[0][0]                    \n",
      "__________________________________________________________________________________________________\n",
      "lstm (LSTM)                     [(None, 50, 256), (N 394240      embedding[0][0]                  \n",
      "__________________________________________________________________________________________________\n",
      "input_2 (InputLayer)            [(None, None)]       0                                            \n",
      "__________________________________________________________________________________________________\n",
      "lstm_1 (LSTM)                   [(None, 50, 256), (N 525312      lstm[0][0]                       \n",
      "__________________________________________________________________________________________________\n",
      "embedding_1 (Embedding)         (None, None, 128)    1280000     input_2[0][0]                    \n",
      "__________________________________________________________________________________________________\n",
      "lstm_2 (LSTM)                   [(None, 50, 256), (N 525312      lstm_1[0][0]                     \n",
      "__________________________________________________________________________________________________\n",
      "lstm_3 (LSTM)                   [(None, None, 256),  394240      embedding_1[0][0]                \n",
      "                                                                 lstm_2[0][1]                     \n",
      "                                                                 lstm_2[0][2]                     \n",
      "__________________________________________________________________________________________________\n",
      "attention_layer (AttentionLayer ((None, None, 256),  131328      lstm_2[0][0]                     \n",
      "                                                                 lstm_3[0][0]                     \n",
      "__________________________________________________________________________________________________\n",
      "concat_layer (Concatenate)      (None, None, 512)    0           lstm_3[0][0]                     \n",
      "                                                                 attention_layer[0][0]            \n",
      "__________________________________________________________________________________________________\n",
      "dense_1 (Dense)                 (None, None, 10000)  5130000     concat_layer[0][0]               \n",
      "==================================================================================================\n",
      "Total params: 9,404,432\n",
      "Trainable params: 9,404,432\n",
      "Non-trainable params: 0\n",
      "__________________________________________________________________________________________________\n"
     ]
    }
   ],
   "source": [
    "# 어텐션 층(어텐션 함수)\n",
    "attn_layer = AttentionLayer(name='attention_layer')\n",
    "# 인코더와 디코더의 모든 time step의 hidden state를 어텐션 층에 전달하고 결과를 리턴\n",
    "attn_out, attn_states = attn_layer([encoder_outputs, decoder_outputs])\n",
    "# 어텐션의 결과와 디코더의 hidden state들을 연결\n",
    "decoder_concat_input = Concatenate(axis = -1, name='concat_layer')([decoder_outputs, attn_out])\n",
    "# 디코더의 출력층\n",
    "decoder_softmax_layer = Dense(tar_vocab, activation='softmax')\n",
    "decoder_softmax_outputs = decoder_softmax_layer(decoder_concat_input)\n",
    "# 모델 정의\n",
    "model = Model([encoder_inputs, decoder_inputs], decoder_softmax_outputs)\n",
    "model.summary()\n"
   ]
  },
  {
   "cell_type": "code",
   "execution_count": 40,
   "metadata": {
    "id": "dtMN1bQC_074"
   },
   "outputs": [
    {
     "name": "stdout",
     "output_type": "stream",
     "text": [
      "Epoch 1/50\n",
      "308/308 [==============================] - 131s 426ms/step - loss: 6.3469 - val_loss: 5.9294\n",
      "Epoch 2/50\n",
      "308/308 [==============================] - 130s 423ms/step - loss: 5.7548 - val_loss: 5.4854\n",
      "Epoch 3/50\n",
      "308/308 [==============================] - 130s 421ms/step - loss: 5.3509 - val_loss: 5.1939\n",
      "Epoch 4/50\n",
      "308/308 [==============================] - 130s 421ms/step - loss: 5.0461 - val_loss: 4.9486\n",
      "Epoch 5/50\n",
      "308/308 [==============================] - 129s 420ms/step - loss: 4.8019 - val_loss: 4.7713\n",
      "Epoch 6/50\n",
      "308/308 [==============================] - 130s 421ms/step - loss: 4.6060 - val_loss: 4.6507\n",
      "Epoch 7/50\n",
      "308/308 [==============================] - 130s 421ms/step - loss: 4.4387 - val_loss: 4.5399\n",
      "Epoch 8/50\n",
      "308/308 [==============================] - 130s 421ms/step - loss: 4.2905 - val_loss: 4.4491\n",
      "Epoch 9/50\n",
      "308/308 [==============================] - 128s 417ms/step - loss: 4.1650 - val_loss: 4.3798\n",
      "Epoch 10/50\n",
      "308/308 [==============================] - 129s 418ms/step - loss: 4.0561 - val_loss: 4.3233\n",
      "Epoch 11/50\n",
      "308/308 [==============================] - 129s 419ms/step - loss: 3.9580 - val_loss: 4.2726\n",
      "Epoch 12/50\n",
      "308/308 [==============================] - 129s 419ms/step - loss: 3.8683 - val_loss: 4.2354\n",
      "Epoch 13/50\n",
      "308/308 [==============================] - 129s 420ms/step - loss: 3.7863 - val_loss: 4.1966\n",
      "Epoch 14/50\n",
      "308/308 [==============================] - 127s 412ms/step - loss: 3.7128 - val_loss: 4.2447\n",
      "Epoch 15/50\n",
      "308/308 [==============================] - 117s 381ms/step - loss: 3.6437 - val_loss: 4.1413\n",
      "Epoch 16/50\n",
      "308/308 [==============================] - 115s 373ms/step - loss: 3.5822 - val_loss: 4.1334\n",
      "Epoch 17/50\n",
      "308/308 [==============================] - 115s 373ms/step - loss: 3.5243 - val_loss: 4.1019\n",
      "Epoch 18/50\n",
      "308/308 [==============================] - 115s 374ms/step - loss: 3.4679 - val_loss: 4.0863\n",
      "Epoch 19/50\n",
      "308/308 [==============================] - 115s 373ms/step - loss: 3.4167 - val_loss: 4.0668\n",
      "Epoch 20/50\n",
      "308/308 [==============================] - 115s 374ms/step - loss: 3.3697 - val_loss: 4.0579\n",
      "Epoch 21/50\n",
      "308/308 [==============================] - 115s 373ms/step - loss: 3.3228 - val_loss: 4.0424\n",
      "Epoch 22/50\n",
      "308/308 [==============================] - 115s 373ms/step - loss: 3.2785 - val_loss: 4.0304\n",
      "Epoch 23/50\n",
      "308/308 [==============================] - 115s 373ms/step - loss: 3.2422 - val_loss: 4.0294\n",
      "Epoch 24/50\n",
      "308/308 [==============================] - 115s 372ms/step - loss: 3.2081 - val_loss: 4.0195\n",
      "Epoch 25/50\n",
      "308/308 [==============================] - 115s 373ms/step - loss: 3.1733 - val_loss: 4.0057\n",
      "Epoch 26/50\n",
      "308/308 [==============================] - 115s 373ms/step - loss: 3.1369 - val_loss: 4.0281\n",
      "Epoch 27/50\n",
      "308/308 [==============================] - 115s 373ms/step - loss: 3.1039 - val_loss: 4.0052\n",
      "Epoch 28/50\n",
      "308/308 [==============================] - 115s 374ms/step - loss: 3.0716 - val_loss: 3.9972\n",
      "Epoch 29/50\n",
      "308/308 [==============================] - 115s 373ms/step - loss: 3.0382 - val_loss: 3.9990\n",
      "Epoch 30/50\n",
      "308/308 [==============================] - 115s 374ms/step - loss: 3.0063 - val_loss: 3.9917\n",
      "Epoch 31/50\n",
      "308/308 [==============================] - 115s 373ms/step - loss: 2.9778 - val_loss: 3.9772\n",
      "Epoch 32/50\n",
      "308/308 [==============================] - 115s 374ms/step - loss: 2.9521 - val_loss: 3.9746\n",
      "Epoch 33/50\n",
      "308/308 [==============================] - 115s 373ms/step - loss: 2.9278 - val_loss: 3.9778\n",
      "Epoch 34/50\n",
      "308/308 [==============================] - 115s 374ms/step - loss: 2.9052 - val_loss: 3.9790\n",
      "Epoch 00034: early stopping\n"
     ]
    }
   ],
   "source": [
    "#training the model\n",
    "\n",
    "model.compile(optimizer='rmsprop', loss='sparse_categorical_crossentropy')\n",
    "es = EarlyStopping(monitor='val_loss', mode='min', verbose=1, patience = 2)\n",
    "history = model.fit(x = [encoder_input_train, decoder_input_train], y = decoder_target_train, \\\n",
    "         validation_data = ([encoder_input_test, decoder_input_test], decoder_target_test),\n",
    "         batch_size = 256, callbacks=[es], epochs = 50)\n"
   ]
  },
  {
   "cell_type": "code",
   "execution_count": 41,
   "metadata": {
    "id": "4Y5S1Kq7Fjfe"
   },
   "outputs": [
    {
     "data": {
      "image/png": "[encoded data removed]",
      "text/plain": [
       "<Figure size 432x288 with 1 Axes>"
      ]
     },
     "metadata": {
      "needs_background": "light"
     },
     "output_type": "display_data"
    }
   ],
   "source": [
    "plt.plot(history.history['loss'], label='train')\n",
    "plt.plot(history.history['val_loss'], label='test')\n",
    "plt.legend()\n",
    "plt.show()"
   ]
  },
  {
   "cell_type": "code",
   "execution_count": 42,
   "metadata": {
    "id": "cAA_5eDrF8Z_"
   },
   "outputs": [],
   "source": [
    "src_index_to_word = src_tokenizer.index_word # 원문 단어 집합에서 정수 -> 단어를 얻음\n",
    "tar_word_to_index = tar_tokenizer.word_index # 요약 단어 집합에서 단어 -> 정수를 얻음\n",
    "tar_index_to_word = tar_tokenizer.index_word # 요약 단어 집합에서 정수 -> 단어를 얻음\n"
   ]
  },
  {
   "cell_type": "code",
   "execution_count": 43,
   "metadata": {
    "id": "FTqz5FlbF_Fi"
   },
   "outputs": [],
   "source": [
    "# 인코더 설계\n",
    "encoder_model = Model(inputs=encoder_inputs, outputs=[encoder_outputs, state_h, state_c])\n",
    "\n",
    "# 이전 시점의 상태들을 저장하는 텐서\n",
    "decoder_state_input_h = Input(shape=(hidden_size,))\n",
    "decoder_state_input_c = Input(shape=(hidden_size,))\n",
    "\n",
    "dec_emb2 = dec_emb_layer(decoder_inputs)\n",
    "# 문장의 다음 단어를 예측하기 위해서 초기 상태(initial_state)를 이전 시점의 상태로 사용. 이는 뒤의 함수 decode_sequence()에 구현\n",
    "# 훈련 과정에서와 달리 LSTM의 리턴하는 은닉 상태와 셀 상태인 state_h와 state_c를 버리지 않음.\n",
    "decoder_outputs2, state_h2, state_c2 = decoder_lstm(dec_emb2, initial_state=[decoder_state_input_h, decoder_state_input_c])\n"
   ]
  },
  {
   "cell_type": "code",
   "execution_count": 44,
   "metadata": {
    "id": "MRLboBu6GC6z"
   },
   "outputs": [],
   "source": [
    "# 어텐션 함수\n",
    "decoder_hidden_state_input = Input(shape=(text_max_len, hidden_size))\n",
    "attn_out_inf, attn_states_inf = attn_layer([decoder_hidden_state_input, decoder_outputs2])\n",
    "decoder_inf_concat = Concatenate(axis=-1, name='concat')([decoder_outputs2, attn_out_inf])\n",
    "\n",
    "# 디코더의 출력층\n",
    "decoder_outputs2 = decoder_softmax_layer(decoder_inf_concat)\n",
    "\n",
    "# 최종 디코더 모델\n",
    "decoder_model = Model(\n",
    "   [decoder_inputs] + [decoder_hidden_state_input,decoder_state_input_h, decoder_state_input_c],\n",
    "   [decoder_outputs2] + [state_h2, state_c2])"
   ]
  },
  {
   "cell_type": "code",
   "execution_count": 45,
   "metadata": {
    "id": "XMhbayXNGEV0"
   },
   "outputs": [],
   "source": [
    "def decode_sequence(input_seq):\n",
    "   # 입력으로부터 인코더의 상태를 얻음\n",
    "   e_out, e_h, e_c = encoder_model.predict(input_seq)\n",
    "\n",
    "    # <SOS>에 해당하는 토큰 생성\n",
    "   target_seq = np.zeros((1,1))\n",
    "   target_seq[0, 0] = tar_word_to_index['sostoken']\n",
    "\n",
    "   stop_condition = False\n",
    "   decoded_sentence = ''\n",
    "   while not stop_condition: # stop_condition이 True가 될 때까지 루프 반복\n",
    "\n",
    "       output_tokens, h, c = decoder_model.predict([target_seq] + [e_out, e_h, e_c])\n",
    "       sampled_token_index = np.argmax(output_tokens[0, -1, :])\n",
    "       sampled_token = tar_index_to_word[sampled_token_index]\n",
    "\n",
    "       if(sampled_token!='eostoken'):\n",
    "           decoded_sentence += ' '+sampled_token\n",
    "\n",
    "       #  <eos>에 도달하거나 최대 길이를 넘으면 중단.\n",
    "       if (sampled_token == 'eostoken'  or len(decoded_sentence.split()) >= (headlines_max_len-1)):\n",
    "           stop_condition = True\n",
    "\n",
    "       # 길이가 1인 타겟 시퀀스를 업데이트\n",
    "       target_seq = np.zeros((1,1))\n",
    "       target_seq[0, 0] = sampled_token_index\n",
    "\n",
    "       # 상태를 업데이트 합니다.\n",
    "       e_h, e_c = h, c\n",
    "\n",
    "   return decoded_sentence\n"
   ]
  },
  {
   "cell_type": "code",
   "execution_count": 46,
   "metadata": {
    "id": "Xs0ySy4qGHsT"
   },
   "outputs": [],
   "source": [
    "# 원문의 정수 시퀀스를 텍스트 시퀀스로 변환\n",
    "def seq2text(input_seq):\n",
    "   temp=''\n",
    "   for i in input_seq:\n",
    "       if(i!=0):\n",
    "           temp = temp + src_index_to_word[i]+' '\n",
    "   return temp\n",
    "\n",
    "# 요약문의 정수 시퀀스를 텍스트 시퀀스로 변환\n",
    "def seq2summary(input_seq):\n",
    "   temp=''\n",
    "   for i in input_seq:\n",
    "       if((i!=0 and i!=tar_word_to_index['sostoken']) and i!=tar_word_to_index['eostoken']):\n",
    "           temp = temp + tar_index_to_word[i] + ' '\n",
    "   return temp\n"
   ]
  },
  {
   "cell_type": "code",
   "execution_count": 47,
   "metadata": {
    "id": "iPNGkglFGYFZ"
   },
   "outputs": [
    {
     "name": "stdout",
     "output_type": "stream",
     "text": [
      "원문 : minor fire broke tesla car production factory california thursday evening ceo elon musk present site said caught fire musk thanked local fire department quick response containing fire injuries damage reported \n",
      "실제 요약 : fire breaks out at musk tesla factory in california \n",
      "예측 요약 :  tesla car catches fire while driving in us\n",
      "\n",
      "\n",
      "원문 : mercedes british formula one driver lewis hamilton japanese grand prix sunday extend lead top drivers championship points red max daniel finished second third positions hamilton course win fourth championship four remaining season \n",
      "실제 요약 : hamilton wins japanese gp to extend ship lead to points \n",
      "예측 요약 :  driver wins race at grand prix\n",
      "\n",
      "\n",
      "원문 : indian rupee thursday breached mark first time us dollar continuing losing streak foreign currency seventh consecutive session rupee nearly year date basis making worst performing currency asia rupee wednesday closed record low \n",
      "실제 요약 : rupee breaches mark against us dollar to hit new low \n",
      "예측 요약 :  rupee closes at fresh lifetime low of against dollar\n",
      "\n",
      "\n",
      "원문 : tuesday inaugurated newly constructed foot mumbai road station tribute people died stampede bridge commissioned stampede constructed army railway protection force posted bridge initially manage crowd reports said \n",
      "실제 요약 : mumbai station bridge where stampede killed inaugurated \n",
      "예측 요약 :  mumbai bridge opens foot bridge collapse in kolkata\n",
      "\n",
      "\n",
      "원문 : malaika arora referring song film dil se said magic could recreated farah khan shah rukh khan came together added till date get song kind opportunity got post played huge part career \n",
      "실제 요약 : only farah srk and can recreate malaika \n",
      "예측 요약 :  ek do not expect srk on sridevi song\n",
      "\n",
      "\n",
      "원문 : second largest us telecom company confirmed personal data lakh customers leaked online reportedly human error led customer numbers names codes publicly available internet data stored cloud visible anyone public link short period reports added \n",
      "실제 요약 : data of lakh customers of nd largest us telco leaked \n",
      "예측 요약 :  wipro loses million data breach after data breach\n",
      "\n",
      "\n",
      "원문 : death apple co founder steve jobs advised ceo tim cook never ask would right revealed cook apple memorial service jobs company campus year notably cook today seven years ceo world valuable company \n",
      "실제 요약 : do just do what is right jobs had told cook \n",
      "예측 요약 :  steve jobs apple ceo tim cook\n",
      "\n",
      "\n",
      "원문 : union minister smriti irani said india soon get size like us uk european nations government also initiate study domestic demand market frame better policies added irani speaking part gujarat global summit \n",
      "실제 요약 : india to have its own standard of size smriti irani \n",
      "예측 요약 :  will not look at the new time soon irani\n",
      "\n",
      "\n",
      "원문 : madhya pradesh congress leader deepak told party members learn discipline rss involved brawl chair something good organisation harm said statement incident occurred event monday \n",
      "실제 요약 : learn from rss cong leader to members on brawl \n",
      "예측 요약 :  congress mp is dangerous congress mp\n",
      "\n",
      "\n",
      "원문 : least two people killed others injured wednesday several gunmen office indian ngo save children afghanistan according reports attackers car bomb outside office using rocket blast way inside isis claimed responsibility attack \n",
      "실제 요약 : gunmen storm save the children office in afghanistan \n",
      "예측 요약 :  killed injured in shooting at afghan school\n",
      "\n",
      "\n",
      "원문 : current nuclear crisis korean peninsula could end russian deputy foreign minister said hope regional community enough common sense prevent becoming reality added also called dialogue us north korea prevent crisis \n",
      "실제 요약 : korea crisis could lead to russian deputy fm \n",
      "예측 요약 :  korea should not be without korea\n",
      "\n",
      "\n",
      "원문 : telangana government decided make telugu mandatory subject till class public private schools decided make telugu compulsory subject responsibility respect mother tongue culture cm chandrashekar rao said course content values among children added \n",
      "실제 요약 : gana to make telugu mandatory in schools till class \n",
      "예측 요약 :  telangana govt to introduce compulsory for telangana\n",
      "\n",
      "\n",
      "원문 : former badminton player prakash padukone first indian win england open world oldest badminton tournament winning title years ago march defeated world number one take home medal prize money two indians tournament since tournament \n",
      "실제 요약 : padukone was the st indian to win all england open \n",
      "예측 요약 :  deepika wins world st world boxing win at\n",
      "\n",
      "\n",
      "원문 : sachin tendulkar let virender sehwag watch world cup final live neither watched despite dressing room india chasing sri lanka run target sachin revealed earlier match getting india played well sachin stopped sehwag watching final \n",
      "실제 요약 : sachin had not let sehwag watch world cup final live \n",
      "예측 요약 :  sachin wishes fifa wc for fifa wc\n",
      "\n",
      "\n",
      "원문 : former three time delhi cm undergo replacement surgery france asked aap government process documents earliest cm arvind kejriwal directed officials clear documents immediately providing medical facilities ex made certain cases reports quoting officials said \n",
      "실제 요약 : ex delhi cm sheila dikshit to undergo surgery in france \n",
      "예측 요약 :  denied entry to remove minister from delhi cm\n",
      "\n",
      "\n",
      "원문 : china launched first ever ray space telescope also second space telescope thursday study evolution black holes tonne telescope sent orbit km earth telescope would also help scientists study use spacecraft navigation look ray gravitational waves \n",
      "실제 요약 : china launches its first ever ray space telescope \n",
      "예측 요약 :  first ever space telescope launched in\n",
      "\n",
      "\n",
      "원문 : nba franchise los angeles retire former player jersey numbers december making first nba history two numbers retired team spent years five championships holds several franchise records including points games played \n",
      "실제 요약 : kobe jersey numbers to be retired by la \n",
      "예측 요약 :  nba star wins lakh prize for nba star\n",
      "\n",
      "\n",
      "원문 : actress priyanka chopra featured cover fall issue american magazine paper one six beautiful people featured magazine cover talking career interview magazine priyanka said extremely turned bad words \n",
      "실제 요약 : priyanka on us magazine paper beautiful people cover \n",
      "예측 요약 :  priyanka chopra features on cover of magazine issue\n",
      "\n",
      "\n",
      "원문 : actor irrfan khan said hollywood keep growing india many films like baahubali added indian director trying make product par hollywood need films irrfan said hindi films need come stories local guy \n",
      "실제 요약 : wood will grow but we will not have many irrfan \n",
      "예측 요약 :  irrfan khan is doing india irrfan khan\n",
      "\n",
      "\n",
      "원문 : us hopes pakistan would right thing turn terrorists asked us secretary state public affairs steve said comes us suspended security assistance worth crore pakistan inaction afghan taliban network terror groups \n",
      "실제 요약 : us asks pakistan to turn over terrorists \n",
      "예측 요약 :  us must not allow us to us terror problem\n",
      "\n",
      "\n",
      "원문 : pizza kfc questioned national anti authority allegedly passing gst rate cut benefits consumers select items november gst council cut tax rates restaurants except ones located within hotels room tariffs \n",
      "실제 요약 : kfc not passing gst rate cut benefits to customers naa \n",
      "예측 요약 :  starbucks to impose tax on gst rate\n",
      "\n",
      "\n",
      "원문 : year old man passed away running fire burning man festival us saturday aaron mitchell managed run past security festival wherein set ablaze said know part kind drugs \n",
      "실제 요약 : dies after running into fire at us burning man festival \n",
      "예측 요약 :  man dies after being trapped in paris\n",
      "\n",
      "\n",
      "원문 : several unidentified thieves stole copper worth several lakhs two security guards greater noida area sunday however site owner said suspects involvement guards crime thieves take mobile phones signs resistance guards owner added \n",
      "실제 요약 : thieves tie up guards steal copper in greater noida \n",
      "예측 요약 :  thieves steal stealing vehicle into noida\n",
      "\n",
      "\n",
      "원문 : andhra pradesh cm chandrababu naidu friday announced cash bonus nearly lakh members development women children rural areas programme amount would given three next two months said promised government would buy crore smartphones women \n",
      "실제 요약 : andhra cm announces bonus for nearly lakh women \n",
      "예측 요약 :  andhra cm announces lakh for women wheelers\n",
      "\n",
      "\n",
      "원문 : praising us president donald trump bombing isis afghanistan hindu parishad executive president friday said india learn bomb pakistan free ex indian navy officer kulbhushan jadhav time show bomb else enemies spread states talk breaking india pieces added \n",
      "실제 요약 : learn from trump bomb pak to free kulbhushan jadhav vhp \n"
     ]
    },
    {
     "name": "stdout",
     "output_type": "stream",
     "text": [
      "예측 요약 :  trump afghan chief action is safe afghan prez trump\n",
      "\n",
      "\n",
      "원문 : congress president rahul gandhi wednesday said whenever comes across bjp mps take steps back thinking hug fight someone mind hate choice gandhi said take pm bjp need hate added \n",
      "실제 요약 : mps take steps back thinking will hug them rahul gandhi \n",
      "예측 요약 :  bjp trying to learn about rahul gandhi\n",
      "\n",
      "\n",
      "원문 : zomato user angry delay food delivery shared chat zomato customer support read every relationship ups say words sorry know words enough chat read customer shared chat online said went emotional \n",
      "실제 요약 : every relationship has its ups and zomato to angry customer \n",
      "예측 요약 :  zomato zomato user zomato zomato zomato zomato\n",
      "\n",
      "\n",
      "원문 : cricketer robin ongoing australia india series clarified giving go instead playing ranji trophy recovering surgery continue play till enjoy anymore cannot physically tweeted year old last represented india july \n",
      "실제 요약 : doing commentary as am not fit on not playing ranji \n",
      "예측 요약 :  australian team cannot keep india without india\n",
      "\n",
      "\n",
      "원문 : cbi officer ak probing bribery case agency special director rakesh asthana moved supreme court challenging transfer port told apex court evidence asthana sent leave also sought probe special investigation team bribery allegations \n",
      "실제 요약 : cbi officer moves sc against transfer to port \n",
      "예측 요약 :  cbi officer moves hc against cbi officer\n",
      "\n",
      "\n",
      "원문 : jet airways founder chairman naresh goyal told sbi ready invest crore struggling airline condition fall goyal currently largest shareholder stake carrier second largest shareholder reportedly wants goyal resign reduce stake \n",
      "실제 요약 : ready to invest crore in jet airways chairman goyal \n",
      "예측 요약 :  jet airways seeks crore loan to buy promoters\n",
      "\n",
      "\n",
      "원문 : saudi arabia al sunday drove formula one mark end year old women driving ban country al already first female member saudi arabian federation also first woman import ferrari saudi arabia taken around world \n",
      "실제 요약 : woman drives car to mark end of women driving ban \n",
      "예측 요약 :  saudi arabia intercepts its first woman\n",
      "\n",
      "\n",
      "원문 : us headquartered electric scooter maker raised million series funding led singapore based venture fund holdings ai generation investment management japan corporation french also participated round funding brought valuation startup also backed million \n",
      "실제 요약 : electric scooter maker raises mn from \n",
      "예측 요약 :  electric scooter startup raises million\n",
      "\n",
      "\n",
      "원문 : ayushmann khurrana attended deepika padukone ranveer singh reception saturday shared picture wife kashyap wrote set go happy couple celebration beautiful fighter golden recently revealed diagnosed stage cancer go sessions \n",
      "실제 요약 : beautiful fighter ayushmann shares pic with wife \n",
      "예측 요약 :  ayushmann deepika ranveer attend their marriage reception\n",
      "\n",
      "\n",
      "원문 : cargo helicopter indian air force carrying construction material crashed tuesday collided iron near kedarnath temple uttarakhand helicopter damaged crash six survived indian air force ordered inquiry incident \n",
      "실제 요약 : indian air force helicopter crashes in uttarakhand \n",
      "예측 요약 :  iaf chopper crashes into aircraft crashes into gujarat\n",
      "\n",
      "\n",
      "원문 : billion fortune year old norwegian named world youngest billionaire global rich list wealth father transferred family investment firm payments startup co founder john named youngest self made billionaire billion fortune \n",
      "실제 요약 : world youngest billionaire is years old \n",
      "예측 요약 :  who is the richest indian billionaire\n",
      "\n",
      "\n",
      "원문 : indian opener rohit sharma scored odi cricket highest individual score sri lanka november dropped later innings rohit went hit record fours nine sixes innings rohit batsman hit two odi double centuries \n",
      "실제 요약 : was dropped thrice in his run odi innings vs sl \n",
      "예측 요약 :  rohit sharma hits his highest odi score in\n",
      "\n",
      "\n",
      "원문 : amid relationship two countries india denied entry mp ahmed arrived chennai airport earlier week external affairs spokesperson kumar said trying figure happened comes days reports said maldives return two search rescue helicopters gifted india \n",
      "실제 요약 : india denies entry to mp amid ties \n",
      "예측 요약 :  india mp denies first party from singapore since\n",
      "\n",
      "\n",
      "원문 : germany biggest lender bank said plans significantly reduce global staff least first major move new ceo christian reduce costs restore bank global expected fall well said would cut sales trading business \n",
      "실제 요약 : deutsche bank to cut at least jobs globally \n",
      "예측 요약 :  bank cuts off to pay off over financial attacks\n",
      "\n",
      "\n",
      "원문 : niti aayog former vice chairman arvind sunday said centre stick fiscal deficit target continue reforms undertaken pm narendra modi led government present government made huge progress implementing gst insolvency bankruptcy code said government aims maintain fiscal deficit target \n",
      "실제 요약 : govt should stick to its fiscal deficit target panagariya \n",
      "예측 요약 :  economic crisis is not revenue panagariya\n",
      "\n",
      "\n",
      "원문 : salman khan granted bail saturday poaching case cannot leave country without jodhpur sessions court permission terms basis given bail included two actor appear jodhpur court may next hearing \n",
      "실제 요약 : on what conditions has salman khan been granted bail \n",
      "예측 요약 :  salman khan gets bail to end jodhpur court\n",
      "\n",
      "\n",
      "원문 : norwegian air flight forced turn around minutes departure due broken toilet onboard interestingly flight carrying including company would liked fix done outside said ceo company \n",
      "실제 요약 : plane carrying turns around due to broken toilet \n",
      "예측 요약 :  flight diverted after flight attendant delayed\n",
      "\n",
      "\n",
      "원문 : eleven year old indian chess player divya deshmukh bagged gold world chess championship held brazil remained unbeaten throughout rounds tournament ending eight wins points girls category nagpur based girl one among indian participants medal \n",
      "실제 요약 : yr old indian girl wins gold at world chess ship \n",
      "예측 요약 :  indian shooter wins gold at world championship\n",
      "\n",
      "\n",
      "원문 : actor akshay kumar said clash bound happen asked release date film toilet ek prem katha shah rukh khan yet film imtiaz ali tell guy clash clash going happen films release every year added akshay \n",
      "실제 요약 : bound to happen akshay on same day release with srk \n",
      "예측 요약 :  toilet ek prem katha akshay kumar\n",
      "\n",
      "\n",
      "원문 : south korean conglomerate samsung monday opened world largest mobile phone manufacturing factory noida uttar pradesh facility inaugurated pm narendra modi south korean president moon jae spread acres noida sector built cost crore facility produce crore mobile phones every year \n",
      "실제 요약 : samsung opens world largest mobile phone factory in noida \n",
      "예측 요약 :  samsung launches world largest cryptocurrency factory in\n",
      "\n",
      "\n",
      "원문 : bowling england cricket team net session sachin tendulkar son arjun left arm caught england wicketkeeper batsman foot seen ground receive treatment injury serious made england final xi facing sa test lord \n",
      "실제 요약 : sachin son yorker gives injury scare to eng \n",
      "예측 요약 :  sachin tendulkar son breaks out at kolkata\n",
      "\n",
      "\n",
      "원문 : reacting krunal pandya indian team selection upcoming series windies australia younger brother hardik tweeted congratulations making indian team proud love hardik called squad recovering injury suffered asia cup \n",
      "실제 요약 : proud of you hardik on krunal india team call up \n",
      "예측 요약 :  hardik pandya is the hardik pandya\n",
      "\n",
      "\n",
      "원문 : phone call canadian pm justin trudeau us president donald trump falsely claimed canada burned white house war trump said trudeau asked could new tariffs national security grounds white house burned british troops canada british colony \n",
      "실제 요약 : did not canada burn down white house trump asks trudeau \n",
      "예측 요약 :  trump calls us president trudeau for alleged trade secrets\n",
      "\n",
      "\n",
      "원문 : year old man allegedly killed year old wife poisoning failing clear class board examinations bihar aurangabad district accused arrested mother law filed complaint claiming sought dowry threatened kill daughter failed exam woman failed examination last year well \n",
      "실제 요약 : husband kills wife for failing class bihar board exam \n",
      "예측 요약 :  man kills wife for refusing to give bribe\n",
      "\n",
      "\n",
      "원문 : lakh people continue affected floods across districts including assam heavy rainfall nearly villages five rivers crossed danger levels government set six relief camps people displaced floods \n",
      "실제 요약 : over lakh people affected in assam floods \n",
      "예측 요약 :  lakh people affected by floods in assam\n",
      "\n",
      "\n",
      "원문 : newly elected karnataka congress mla monday died car crash near bengaluru returning goa incident occurred car travelling burst car smashed wall one congress mlas elected karnataka assembly may polls \n",
      "실제 요약 : newly elected karnataka congress mla dies in car crash \n"
     ]
    },
    {
     "name": "stdout",
     "output_type": "stream",
     "text": [
      "예측 요약 :  karnataka congress mla dies after floor test\n",
      "\n",
      "\n"
     ]
    }
   ],
   "source": [
    "for i in range(50, 100):\n",
    "   print(\"원문 :\", seq2text(encoder_input_test[i]))\n",
    "   print(\"실제 요약 :\", seq2summary(decoder_input_test[i]))\n",
    "   print(\"예측 요약 :\", decode_sequence(encoder_input_test[i].reshape(1, text_max_len)))\n",
    "   print(\"\\n\")\n",
    "\n",
    "  "
   ]
  },
  {
   "cell_type": "markdown",
   "metadata": {
    "id": "-v9Q4BRrGls8"
   },
   "source": [
    "#추출적 요약 해보기\n"
   ]
  },
  {
   "cell_type": "code",
   "execution_count": 48,
   "metadata": {
    "id": "8zBk5MOCGlH_"
   },
   "outputs": [
    {
     "name": "stdout",
     "output_type": "stream",
     "text": [
      "Requirement already satisfied: summa in /home/ssac9/anaconda3/envs/aiffel/lib/python3.7/site-packages (1.2.0)\r\n",
      "Requirement already satisfied: scipy>=0.19 in /home/ssac9/anaconda3/envs/aiffel/lib/python3.7/site-packages (from summa) (1.5.2)\r\n",
      "Requirement already satisfied: numpy>=1.14.5 in /home/ssac9/anaconda3/envs/aiffel/lib/python3.7/site-packages (from scipy>=0.19->summa) (1.19.2)\r\n"
     ]
    }
   ],
   "source": [
    "!pip install summa"
   ]
  },
  {
   "cell_type": "code",
   "execution_count": 49,
   "metadata": {
    "id": "Qq9Kj2VDG1dj"
   },
   "outputs": [],
   "source": [
    "import requests\n",
    "from summa.summarizer import summarize\n"
   ]
  },
  {
   "cell_type": "code",
   "execution_count": 53,
   "metadata": {
    "id": "AIPTeUa2G20I"
   },
   "outputs": [
    {
     "name": "stdout",
     "output_type": "stream",
     "text": [
      "headlines,text\n",
      "upGrad learner switches to career in ML & Al with 90% salary hike,\"Saurav Kant, an alumnus of upGrad and IIIT-B's PG Program in Machine learning and Artificial Intelligence, was a Sr Systems Engineer at Infosys with almost 5 years of work experience. The program and upGrad's 360-degree career support helped him transition to a Data Scientist at Tech Mahindra with 90% salary hike. upGrad's Online Power Learning has powered 3 lakh+ careers.\"\n",
      "Delhi techie wins free food from Swiggy for one year on CRED,\"Kunal Shah's credit card bill payment platform, CRED, gave users a chance to win free food from Swiggy for one year. Pranav Kaushik, a Delhi techie, bagged this reward after spending 2000 CRED coins. Users get one CRED coin per rupee of bill paid, which can be used to avail rewards from brands like Ixigo, BookMyShow, UberEats, Cult.Fit and more.\"\n",
      "New Zealand end Rohit Sharma-led India's 12-match winning streak,\"New Zealand defeated India by 8 wickets in the fourth ODI at Hamilton on Thursday to win their first match of the five-match ODI series. India lost an international match under Rohit Sharma's captaincy after 12 consecutive victories dating back to March 2018. The match witnessed India getting all out for 92, their seventh lowest total in ODI cricket history.\"\n",
      "Aegon life iTerm insurance plan helps customers save tax,\"With Aegon Life iTerm Insurance plan, customers can enjoy tax benefits on your premiums paid and save up to â¹46,800^ on taxes. The plan provid\n"
     ]
    }
   ],
   "source": [
    "text = requests.get(\"https://raw.githubusercontent.com/sunnysai12345/News_Summary/master/news_summary_more.csv\").text\n",
    "\n",
    "print(text[:1500])"
   ]
  },
  {
   "cell_type": "code",
   "execution_count": null,
   "metadata": {
    "id": "J_HZcfx9HBqw"
   },
   "outputs": [
    {
     "name": "stdout",
     "output_type": "stream",
     "text": [
      "headlines:\n"
     ]
    }
   ],
   "source": [
    "print('headlines:')\n",
    "print(summarize(text, ratio=0.005))"
   ]
  },
  {
   "cell_type": "code",
   "execution_count": null,
   "metadata": {
    "id": "jzS5J7GjHG0K"
   },
   "outputs": [],
   "source": []
  }
 ],
 "metadata": {
  "accelerator": "GPU",
  "colab": {
   "name": "news_briefing_model",
   "provenance": []
  },
  "kernelspec": {
   "display_name": "Python 3",
   "language": "python",
   "name": "python3"
  },
  "language_info": {
   "codemirror_mode": {
    "name": "ipython",
    "version": 3
   },
   "file_extension": ".py",
   "mimetype": "text/x-python",
   "name": "python",
   "nbconvert_exporter": "python",
   "pygments_lexer": "ipython3",
   "version": "3.7.9"
  }
 },
 "nbformat": 4,
 "nbformat_minor": 1
}
