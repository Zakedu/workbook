{
 "cells": [
  {
   "cell_type": "markdown",
   "metadata": {},
   "source": [
    "1. 데이터 처리와 분류\n",
    "라벨 데이터 처리하기\n",
    "sklearn의 train_test_split함수를 이용하여 train, test 분리"
   ]
  },
  {
   "cell_type": "markdown",
   "metadata": {},
   "source": [
    "$ mkdir -p ~/aiffel/speech_recognition/data\n",
    "$ mkdir -p ~/aiffel/speech_recognition/models\n",
    "$ wget https://aiffelstaticdev.blob.core.windows.net/dataset/speech_wav_8000.npz -P ~/aiffel/speech_recognition/data"
   ]
  },
  {
   "cell_type": "code",
   "execution_count": 1,
   "metadata": {},
   "outputs": [],
   "source": [
    "#Data SET\n",
    "import numpy as np\n",
    "import os\n",
    "\n",
    "data_path = os.getenv(\"HOME\")+'/aiffel/speech_recognition/data/speech_wav_8000.npz'\n",
    "speech_data = np.load(data_path)\n"
   ]
  },
  {
   "cell_type": "code",
   "execution_count": 2,
   "metadata": {},
   "outputs": [
    {
     "name": "stdout",
     "output_type": "stream",
     "text": [
      "Wave data shape :  (50620, 8000)\n",
      "Label data shape :  (50620, 1)\n"
     ]
    }
   ],
   "source": [
    "#Data check\n",
    "print(\"Wave data shape : \", speech_data[\"wav_vals\"].shape)\n",
    "print(\"Label data shape : \", speech_data[\"label_vals\"].shape)\n"
   ]
  },
  {
   "cell_type": "code",
   "execution_count": 3,
   "metadata": {},
   "outputs": [
    {
     "name": "stdout",
     "output_type": "stream",
     "text": [
      "rand num :  34104\n",
      "Wave data shape :  (8000,)\n",
      "label :  ['right']\n"
     ]
    },
    {
     "data": {
      "text/html": [
       "\n",
       "                <audio  controls=\"controls\" >\n",
       "                    <source src=\"data:audio/wav;base64,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\" type=\"audio/wav\" />\n",
       "                    Your browser does not support the audio element.\n",
       "                </audio>\n",
       "              "
      ],
      "text/plain": [
       "<IPython.lib.display.Audio object>"
      ]
     },
     "execution_count": 3,
     "metadata": {},
     "output_type": "execute_result"
    }
   ],
   "source": [
    "#Data label\n",
    "\n",
    "import IPython.display as ipd\n",
    "import random\n",
    "\n",
    "rand = random.randint(0, len(speech_data[\"wav_vals\"]))\n",
    "print(\"rand num : \", rand)\n",
    "\n",
    "sr = 8000 # 1초동안 재생되는 샘플의 갯수\n",
    "data = speech_data[\"wav_vals\"][rand]\n",
    "print(\"Wave data shape : \", data.shape)\n",
    "print(\"label : \", speech_data[\"label_vals\"][rand])\n",
    "\n",
    "ipd.Audio(data, rate=sr)\n"
   ]
  },
  {
   "cell_type": "code",
   "execution_count": 4,
   "metadata": {},
   "outputs": [
    {
     "name": "stdout",
     "output_type": "stream",
     "text": [
      "LABEL :  ['yes', 'no', 'up', 'down', 'left', 'right', 'on', 'off', 'stop', 'go', 'unknown', 'silence']\n",
      "Indexed LABEL :  {'yes': 0, 'no': 1, 'up': 2, 'down': 3, 'left': 4, 'right': 5, 'on': 6, 'off': 7, 'stop': 8, 'go': 9, 'unknown': 10, 'silence': 11}\n"
     ]
    }
   ],
   "source": [
    "#Label data processing\n",
    "\n",
    "target_list = ['yes', 'no', 'up', 'down', 'left', 'right', 'on', 'off', 'stop', 'go']\n",
    "\n",
    "label_value = target_list\n",
    "label_value.append('unknown')\n",
    "label_value.append('silence')\n",
    "\n",
    "print('LABEL : ', label_value)\n",
    "\n",
    "new_label_value = dict()\n",
    "for i, l in enumerate(label_value):\n",
    "   new_label_value[l] = i\n",
    "label_value = new_label_value\n",
    "\n",
    "print('Indexed LABEL : ', new_label_value)\n"
   ]
  },
  {
   "cell_type": "code",
   "execution_count": 5,
   "metadata": {},
   "outputs": [
    {
     "data": {
      "text/plain": [
       "array([ 3,  3,  3, ..., 11, 11, 11])"
      ]
     },
     "execution_count": 5,
     "metadata": {},
     "output_type": "execute_result"
    }
   ],
   "source": [
    "#txt label data >> index\n",
    "temp = []\n",
    "for v in speech_data[\"label_vals\"]:\n",
    "   temp.append(label_value[v[0]])\n",
    "label_data = np.array(temp)\n",
    "\n",
    "label_data\n"
   ]
  },
  {
   "cell_type": "code",
   "execution_count": 6,
   "metadata": {},
   "outputs": [
    {
     "name": "stdout",
     "output_type": "stream",
     "text": [
      "[[ 3.9077783e-03  6.4756428e-03  3.4024862e-03 ... -7.1606133e-04\n",
      "  -1.6418654e-03 -4.9136630e-03]\n",
      " [ 4.8200754e-03  6.6878451e-03  1.8385899e-03 ...  5.0121378e-03\n",
      "   7.3261848e-03  8.3823288e-03]\n",
      " [ 6.4754677e-05  5.9785783e-05  1.4532113e-04 ...  4.1011139e-05\n",
      "   3.6084562e-05 -6.9441558e-05]\n",
      " ...\n",
      " [ 3.1702365e-03  4.6540918e-03  5.3446242e-03 ...  4.0515081e-04\n",
      "   6.7125930e-04 -1.5180149e-04]\n",
      " [-7.3786650e-05 -6.9957765e-05  2.4861071e-04 ... -1.7949380e-05\n",
      "  -2.2973256e-04 -5.0410361e-04]\n",
      " [ 0.0000000e+00  0.0000000e+00  0.0000000e+00 ... -3.1576081e-05\n",
      "  -2.7667937e-05 -4.0940497e-05]]\n"
     ]
    }
   ],
   "source": [
    "#split the data\n",
    "\n",
    "from sklearn.model_selection import train_test_split\n",
    "\n",
    "sr = 8000\n",
    "train_wav, test_wav, train_label, test_label = train_test_split(speech_data[\"wav_vals\"],\n",
    "                                                               label_data,\n",
    "                                                               test_size=0.1,\n",
    "                                                               shuffle=True)\n",
    "print(train_wav)\n",
    "\n",
    "train_wav = train_wav.reshape([-1, sr, 1]) # add channel for CNN\n",
    "test_wav = test_wav.reshape([-1, sr, 1])\n"
   ]
  },
  {
   "cell_type": "code",
   "execution_count": 7,
   "metadata": {},
   "outputs": [
    {
     "name": "stdout",
     "output_type": "stream",
     "text": [
      "train data :  (45558, 8000, 1)\n",
      "train labels :  (45558,)\n",
      "test data :  (5062, 8000, 1)\n",
      "test labels :  (5062,)\n",
      "✅\n"
     ]
    }
   ],
   "source": [
    "#splited data check\n",
    "print(\"train data : \", train_wav.shape)\n",
    "print(\"train labels : \", train_label.shape)\n",
    "print(\"test data : \", test_wav.shape)\n",
    "print(\"test labels : \", test_label.shape)\n",
    "print(\"✅\")\n"
   ]
  },
  {
   "cell_type": "markdown",
   "metadata": {},
   "source": [
    "2. 학습을 위한 하이퍼파라미터 설정"
   ]
  },
  {
   "cell_type": "code",
   "execution_count": 8,
   "metadata": {},
   "outputs": [
    {
     "data": {
      "text/plain": [
       "'/home/ssac9/aiffel/speech_recognition/models/wav'"
      ]
     },
     "execution_count": 8,
     "metadata": {},
     "output_type": "execute_result"
    }
   ],
   "source": [
    "#hyper-parameter setting\n",
    "\n",
    "batch_size = 32\n",
    "max_epochs = 10\n",
    "\n",
    "# the save point\n",
    "checkpoint_dir = os.getenv('HOME')+'/aiffel/speech_recognition/models/wav'\n",
    "\n",
    "checkpoint_dir\n"
   ]
  },
  {
   "cell_type": "code",
   "execution_count": 9,
   "metadata": {},
   "outputs": [
    {
     "name": "stdout",
     "output_type": "stream",
     "text": [
      "✅\n"
     ]
    }
   ],
   "source": [
    "#data setting\n",
    "def one_hot_label(wav, label):\n",
    "   label = tf.one_hot(label, depth=12)\n",
    "   return wav, label\n",
    "print(\"✅\")\n"
   ]
  },
  {
   "cell_type": "markdown",
   "metadata": {},
   "source": [
    "3. 데이터셋 구성\n",
    "tf.data.Dataset을 이용\n",
    "from_tensor_slices 함수에 return 받길 원하는 데이터를 튜플 (data, label) 형태로 넣어서 사용\n",
    "map과 batch를 이용한 데이터 전처리\n",
    "주의 : waveform을 spectrogram으로 변환하기 위해 추가로 사용하는 메모리 때문에 이후 메모리 부족 현상을 겪게 될수도 있습니다.\n",
    "tf.data.Dataset이 생성된 이후, 아래 예시와 같이 wav 데이터나 spectrogram 데이터를 담아둔 메모리 버퍼를 비워 주면 도움이 됩니다.\n",
    "del speech_data\n",
    "del spec_data\n"
   ]
  },
  {
   "cell_type": "code",
   "execution_count": 10,
   "metadata": {},
   "outputs": [
    {
     "name": "stdout",
     "output_type": "stream",
     "text": [
      "<BatchDataset shapes: ((None, 8000, 1), (None, 12)), types: (tf.float32, tf.float32)>\n",
      "<BatchDataset shapes: ((None, 8000, 1), (None, 12)), types: (tf.float32, tf.float32)>\n",
      "✅\n"
     ]
    }
   ],
   "source": [
    "import tensorflow as tf\n",
    "import matplotlib.pyplot as plt\n",
    "\n",
    "# for train\n",
    "train_dataset = tf.data.Dataset.from_tensor_slices((train_wav, train_label))\n",
    "train_dataset = train_dataset.map(one_hot_label)\n",
    "train_dataset = train_dataset.repeat().batch(batch_size=batch_size)\n",
    "print(train_dataset)\n",
    "\n",
    "# for test\n",
    "test_dataset = tf.data.Dataset.from_tensor_slices((test_wav, test_label))\n",
    "test_dataset = test_dataset.map(one_hot_label)\n",
    "test_dataset = test_dataset.batch(batch_size=batch_size)\n",
    "print(test_dataset)\n",
    "print(\"✅\")\n"
   ]
  },
  {
   "cell_type": "markdown",
   "metadata": {},
   "source": [
    "\n",
    "4. 2차원 Spectrogram 데이터를 처리하는 모델 구성\n",
    "2차원 Spectrogram 데이터의 시간축 방향으로 Conv1D layer를 적용, 혹은 Conv2D layer를 적용 가능\n",
    "batchnorm, dropout, dense layer 등을 이용\n",
    "12개의 단어 class를 구분하는 loss를 사용하고 Adam optimizer를 사용\n",
    "모델 가중치를 저장하는 checkpoint callback 함수 추가\n",
    "다양한 모델의 실험을 진행해 보시기 바랍니다."
   ]
  },
  {
   "cell_type": "markdown",
   "metadata": {},
   "source": [
    "$ pip install librosa"
   ]
  },
  {
   "cell_type": "code",
   "execution_count": 11,
   "metadata": {},
   "outputs": [
    {
     "name": "stdout",
     "output_type": "stream",
     "text": [
      "✅\n"
     ]
    }
   ],
   "source": [
    "import librosa\n",
    "\n",
    "def wav2spec(wav, fft_size=258): # spectrogram shape을 맞추기위해서 size 변형\n",
    "   D = np.abs(librosa.stft(wav, n_fft=fft_size))\n",
    "   return D\n",
    "print(\"✅\")\n"
   ]
  },
  {
   "cell_type": "code",
   "execution_count": 12,
   "metadata": {},
   "outputs": [
    {
     "name": "stdout",
     "output_type": "stream",
     "text": [
      "Waveform shape :  (8000,)\n",
      "Spectrogram shape :  (130, 126)\n"
     ]
    }
   ],
   "source": [
    "# 위에서 뽑았던 sample data\n",
    "spec = wav2spec(data)\n",
    "print(\"Waveform shape : \",data.shape)\n",
    "print(\"Spectrogram shape : \",spec.shape)\n"
   ]
  },
  {
   "cell_type": "code",
   "execution_count": 13,
   "metadata": {},
   "outputs": [
    {
     "data": {
      "image/png": "[encoded data removed]",
      "text/plain": [
       "<Figure size 432x288 with 2 Axes>"
      ]
     },
     "metadata": {
      "needs_background": "light"
     },
     "output_type": "display_data"
    }
   ],
   "source": [
    "import librosa.display\n",
    "\n",
    "librosa.display.specshow(librosa.amplitude_to_db(spec, ref=np.max), x_axis='time')\n",
    "plt.title('Power spectrogram')\n",
    "plt.colorbar(format='%+2.0f dB')\n",
    "plt.xticks(range(0, 1))\n",
    "plt.tight_layout()\n",
    "plt.show()\n"
   ]
  },
  {
   "cell_type": "markdown",
   "metadata": {},
   "source": [
    "#Conv1D layer를 이용해서 모델을 구성"
   ]
  },
  {
   "cell_type": "code",
   "execution_count": 14,
   "metadata": {},
   "outputs": [
    {
     "name": "stdout",
     "output_type": "stream",
     "text": [
      "Model: \"model\"\n",
      "_________________________________________________________________\n",
      "Layer (type)                 Output Shape              Param #   \n",
      "=================================================================\n",
      "input_1 (InputLayer)         [(None, 8000, 1)]         0         \n",
      "_________________________________________________________________\n",
      "conv1d (Conv1D)              (None, 8000, 32)          320       \n",
      "_________________________________________________________________\n",
      "conv1d_1 (Conv1D)            (None, 8000, 32)          9248      \n",
      "_________________________________________________________________\n",
      "max_pooling1d (MaxPooling1D) (None, 4000, 32)          0         \n",
      "_________________________________________________________________\n",
      "conv1d_2 (Conv1D)            (None, 4000, 64)          18496     \n",
      "_________________________________________________________________\n",
      "conv1d_3 (Conv1D)            (None, 4000, 64)          36928     \n",
      "_________________________________________________________________\n",
      "max_pooling1d_1 (MaxPooling1 (None, 2000, 64)          0         \n",
      "_________________________________________________________________\n",
      "conv1d_4 (Conv1D)            (None, 2000, 128)         73856     \n",
      "_________________________________________________________________\n",
      "conv1d_5 (Conv1D)            (None, 2000, 128)         147584    \n",
      "_________________________________________________________________\n",
      "conv1d_6 (Conv1D)            (None, 2000, 128)         147584    \n",
      "_________________________________________________________________\n",
      "max_pooling1d_2 (MaxPooling1 (None, 1000, 128)         0         \n",
      "_________________________________________________________________\n",
      "conv1d_7 (Conv1D)            (None, 1000, 256)         295168    \n",
      "_________________________________________________________________\n",
      "conv1d_8 (Conv1D)            (None, 1000, 256)         590080    \n",
      "_________________________________________________________________\n",
      "conv1d_9 (Conv1D)            (None, 1000, 256)         590080    \n",
      "_________________________________________________________________\n",
      "max_pooling1d_3 (MaxPooling1 (None, 500, 256)          0         \n",
      "_________________________________________________________________\n",
      "dropout (Dropout)            (None, 500, 256)          0         \n",
      "_________________________________________________________________\n",
      "flatten (Flatten)            (None, 128000)            0         \n",
      "_________________________________________________________________\n",
      "dense (Dense)                (None, 256)               32768256  \n",
      "_________________________________________________________________\n",
      "batch_normalization (BatchNo (None, 256)               1024      \n",
      "_________________________________________________________________\n",
      "activation (Activation)      (None, 256)               0         \n",
      "_________________________________________________________________\n",
      "dense_1 (Dense)              (None, 12)                3084      \n",
      "=================================================================\n",
      "Total params: 34,681,708\n",
      "Trainable params: 34,681,196\n",
      "Non-trainable params: 512\n",
      "_________________________________________________________________\n"
     ]
    }
   ],
   "source": [
    "from tensorflow.keras import layers\n",
    "\n",
    "input_tensor = layers.Input(shape=(sr, 1))\n",
    "\n",
    "x = layers.Conv1D(32, 9, padding='same', activation='relu')(input_tensor)\n",
    "x = layers.Conv1D(32, 9, padding='same', activation='relu')(x)\n",
    "x = layers.MaxPool1D()(x)\n",
    "\n",
    "x = layers.Conv1D(64, 9, padding='same', activation='relu')(x)\n",
    "x = layers.Conv1D(64, 9, padding='same', activation='relu')(x)\n",
    "x = layers.MaxPool1D()(x)\n",
    "\n",
    "x = layers.Conv1D(128, 9, padding='same', activation='relu')(x)\n",
    "x = layers.Conv1D(128, 9, padding='same', activation='relu')(x)\n",
    "x = layers.Conv1D(128, 9, padding='same', activation='relu')(x)\n",
    "x = layers.MaxPool1D()(x)\n",
    "\n",
    "x = layers.Conv1D(256, 9, padding='same', activation='relu')(x)\n",
    "x = layers.Conv1D(256, 9, padding='same', activation='relu')(x)\n",
    "x = layers.Conv1D(256, 9, padding='same', activation='relu')(x)\n",
    "x = layers.MaxPool1D()(x)\n",
    "x = layers.Dropout(0.3)(x)\n",
    "\n",
    "x = layers.Flatten()(x)\n",
    "x = layers.Dense(256)(x)\n",
    "x = layers.BatchNormalization()(x)\n",
    "x = layers.Activation('relu')(x)\n",
    "\n",
    "output_tensor = layers.Dense(12)(x)\n",
    "\n",
    "model_wav = tf.keras.Model(input_tensor, output_tensor)\n",
    "\n",
    "model_wav.summary()\n"
   ]
  },
  {
   "cell_type": "markdown",
   "metadata": {},
   "source": [
    "#adam optimizer"
   ]
  },
  {
   "cell_type": "code",
   "execution_count": 15,
   "metadata": {},
   "outputs": [
    {
     "name": "stdout",
     "output_type": "stream",
     "text": [
      "✅\n"
     ]
    }
   ],
   "source": [
    "optimizer=tf.keras.optimizers.Adam(1e-4)\n",
    "model_wav.compile(loss=tf.keras.losses.CategoricalCrossentropy(from_logits=True),\n",
    "            optimizer=optimizer,\n",
    "            metrics=['accuracy'])\n",
    "print(\"✅\")\n"
   ]
  },
  {
   "cell_type": "markdown",
   "metadata": {},
   "source": [
    "#training"
   ]
  },
  {
   "cell_type": "code",
   "execution_count": 16,
   "metadata": {},
   "outputs": [
    {
     "name": "stdout",
     "output_type": "stream",
     "text": [
      "✅\n"
     ]
    }
   ],
   "source": [
    "cp_callback = tf.keras.callbacks.ModelCheckpoint(checkpoint_dir,\n",
    "                                                save_weights_only=True,\n",
    "                                                monitor='val_loss',\n",
    "                                                mode='auto',\n",
    "                                                save_best_only=True,\n",
    "                                                verbose=1)\n",
    "print(\"✅\")\n"
   ]
  },
  {
   "cell_type": "code",
   "execution_count": null,
   "metadata": {},
   "outputs": [
    {
     "name": "stdout",
     "output_type": "stream",
     "text": [
      "Epoch 1/10\n",
      "  32/1423 [..............................] - ETA: 37:39 - loss: 2.4399 - accuracy: 0.1318"
     ]
    }
   ],
   "source": [
    "history_wav = model_wav.fit(train_dataset, epochs=max_epochs,\n",
    "                   steps_per_epoch=len(train_wav) // batch_size,\n",
    "                   validation_data=test_dataset,\n",
    "                   validation_steps=len(test_wav) // batch_size,\n",
    "                   callbacks=[cp_callback]\n",
    "                   )\n",
    "print(\"✅\")\n"
   ]
  },
  {
   "cell_type": "markdown",
   "metadata": {},
   "source": [
    "\n",
    "5. 학습 후, 학습이 어떻게 진행됐는지 그래프로 출력\n",
    "loss, accuracy를 그래프로 표현\n"
   ]
  },
  {
   "cell_type": "code",
   "execution_count": null,
   "metadata": {},
   "outputs": [],
   "source": [
    "import matplotlib.pyplot as plt\n",
    "\n",
    "acc = history_wav.history['accuracy']\n",
    "val_acc = history_wav.history['val_accuracy']\n",
    "\n",
    "loss=history_wav.history['loss']\n",
    "val_loss=history_wav.history['val_loss']\n",
    "\n",
    "epochs_range = range(len(acc))\n",
    "\n",
    "plt.figure(figsize=(8, 8))\n",
    "plt.subplot(1, 2, 1)\n",
    "plt.plot(epochs_range, acc, label='Training Accuracy')\n",
    "plt.plot(epochs_range, val_acc, label='Validation Accuracy')\n",
    "plt.legend(loc='lower right')\n",
    "plt.title('Training and Validation Accuracy')\n",
    "\n",
    "plt.subplot(1, 2, 2)\n",
    "plt.plot(epochs_range, loss, label='Training Loss')\n",
    "plt.plot(epochs_range, val_loss, label='Validation Loss')\n",
    "plt.legend(loc='upper right')\n",
    "plt.title('Training and Validation Loss')\n",
    "plt.show()\n",
    "print(\"✅\")\n"
   ]
  },
  {
   "cell_type": "markdown",
   "metadata": {},
   "source": [
    "6. Test dataset을 이용해서 모델의 성능을 평가\n",
    "저장한 weight 불러오기\n",
    "모델의 예측값과 정답값이 얼마나 일치하는지 확인\n"
   ]
  },
  {
   "cell_type": "code",
   "execution_count": null,
   "metadata": {},
   "outputs": [],
   "source": [
    "model_wav.load_weights(checkpoint_dir)\n",
    "print(\"✅\")\n",
    "\n",
    "results = model_wav.evaluate(test_dataset)\n",
    "print(\"✅\")\n",
    "\n",
    "# loss\n",
    "print(\"loss value: {:.3f}\".format(results[0]))\n",
    "\n",
    "# accuracy\n",
    "print(\"accuracy value: {:.4f}%\".format(results[1]*100))\n",
    "print(\"✅\")\n"
   ]
  },
  {
   "cell_type": "code",
   "execution_count": null,
   "metadata": {},
   "outputs": [],
   "source": [
    "inv_label_value = {v: k for k, v in label_value.items()}\n",
    "batch_index = np.random.choice(len(test_wav), size=1, replace=False)\n",
    "\n",
    "batch_xs = test_wav[batch_index]\n",
    "batch_ys = test_label[batch_index]\n",
    "y_pred_ = model_wav(batch_xs, training=False)\n",
    "\n",
    "print(\"label : \", str(inv_label_value[batch_ys[0]]))\n",
    "\n",
    "ipd.Audio(batch_xs.reshape(8000,), rate=8000)\n"
   ]
  },
  {
   "cell_type": "code",
   "execution_count": null,
   "metadata": {},
   "outputs": [],
   "source": [
    "if np.argmax(y_pred_) == batch_ys[0]:\n",
    "   print(\"y_pred: \" + str(inv_label_value[np.argmax(y_pred_)]) + '(Correct!)')\n",
    "else:\n",
    "   print(\"y_pred: \" + str(inv_label_value[np.argmax(y_pred_)]) + '(Incorrect!)')\n",
    "print(\"✅\")\n"
   ]
  },
  {
   "cell_type": "markdown",
   "metadata": {},
   "source": [
    " \n",
    "평가문항\n",
    "상세기준\n",
    "1. 음성데이터를 2차원 Spectrogram 으로 변환하여 데이터셋을 구성하였다.\n",
    "스펙트로그램 시각화 및 train/test 데이터셋 구성이 정상진행되었다.\n",
    "\n",
    "2. 1,2차원 데이터를 처리하는 음성인식 모델이 정상 작동한다.\n",
    "스펙트로그램을 입력받은 모델이 학습과정에서 안정적으로 수렴하며, evaluation/test 단계를 무리없이 진행가능하다.\n",
    "\n",
    "3. 테스트셋 수행결과 음성인식 모델의 Accuracy가 일정 수준에 도달하였다.\n",
    "evaluation 결과 75% 이상의 정확도를 달성하는 모델이 하나 이상 존재한다.\n"
   ]
  }
 ],
 "metadata": {
  "kernelspec": {
   "display_name": "Python 3",
   "language": "python",
   "name": "python3"
  },
  "language_info": {
   "codemirror_mode": {
    "name": "ipython",
    "version": 3
   },
   "file_extension": ".py",
   "mimetype": "text/x-python",
   "name": "python",
   "nbconvert_exporter": "python",
   "pygments_lexer": "ipython3",
   "version": "3.7.9"
  }
 },
 "nbformat": 4,
 "nbformat_minor": 4
}
